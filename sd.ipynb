{
 "cells": [
  {
   "cell_type": "code",
   "execution_count": 33,
   "metadata": {
    "execution": {
     "iopub.execute_input": "2021-06-11T10:59:52.136134Z",
     "iopub.status.busy": "2021-06-11T10:59:52.135607Z",
     "iopub.status.idle": "2021-06-11T10:59:52.140339Z",
     "shell.execute_reply": "2021-06-11T10:59:52.139437Z",
     "shell.execute_reply.started": "2021-06-11T10:59:52.136092Z"
    },
    "trusted": true
   },
   "outputs": [],
   "source": [
    "ENCODER_LEN = 100\n",
    "DECODER_LEN = 100\n",
    "BATCH_SIZE = 64\n",
    "BUFFER_SIZE = BATCH_SIZE*4"
   ]
  },
  {
   "cell_type": "code",
   "execution_count": 34,
   "metadata": {
    "execution": {
     "iopub.execute_input": "2021-06-11T10:59:52.142055Z",
     "iopub.status.busy": "2021-06-11T10:59:52.141683Z",
     "iopub.status.idle": "2021-06-11T10:59:53.911257Z",
     "shell.execute_reply": "2021-06-11T10:59:53.91013Z",
     "shell.execute_reply.started": "2021-06-11T10:59:52.14201Z"
    },
    "trusted": true
   },
   "outputs": [
    {
     "data": {
      "text/html": [
       "<div>\n",
       "<style scoped>\n",
       "    .dataframe tbody tr th:only-of-type {\n",
       "        vertical-align: middle;\n",
       "    }\n",
       "\n",
       "    .dataframe tbody tr th {\n",
       "        vertical-align: top;\n",
       "    }\n",
       "\n",
       "    .dataframe thead th {\n",
       "        text-align: right;\n",
       "    }\n",
       "</style>\n",
       "<table border=\"1\" class=\"dataframe\">\n",
       "  <thead>\n",
       "    <tr style=\"text-align: right;\">\n",
       "      <th></th>\n",
       "      <th>ENGLISH</th>\n",
       "      <th>bodo</th>\n",
       "    </tr>\n",
       "  </thead>\n",
       "  <tbody>\n",
       "    <tr>\n",
       "      <th>0</th>\n",
       "      <td>Two of the best trains viz. Shatabdi express (between Delhi and Bhopal) and Taj Express (between Delhi and Gwalior) are available to access Agra.</td>\n",
       "      <td>रोखोमनै साबसिन त्रेइन जेरै- सताबदि अक्सप्रेस (देलही आरो भुपालनि गेजेराव) आरो ताज एक्सप्रेसनि (दिल्ली आरो गवालिरनि गेजेराव) आग्रासिम हाबग्रा लामाया थोजासे रोखोमनि।</td>\n",
       "    </tr>\n",
       "    <tr>\n",
       "      <th>1</th>\n",
       "      <td>Agra, on cross roads of national highways 2, 3 and 11, is excellently connected to all parts of the country.</td>\n",
       "      <td>राजा लामानि 2, 3, आरो 11 आ आग्रासिम थांनो थाखाय हादोरनि गासैबो रोखोमनि लामाफोरजों जोबोद मोजाङै फोनांजाबनाय।</td>\n",
       "    </tr>\n",
       "    <tr>\n",
       "      <th>2</th>\n",
       "      <td>Kheria Airport (Airport of Agra) is about 6 km from the Agra city centre and is easily accessible by taxis and auto rickshaws at nominal rates.</td>\n",
       "      <td>सेरिया बिरखं गाथोना (आग्रानि बिरखं गाथोन) आरो नोगोरनिफ्राय 6.कि.मि. गोजानाव आरो जायगायावनो मोलाय अटʼ रिक्सायाव होनांनाय बेसेनाबो थि जखानि।</td>\n",
       "    </tr>\n",
       "    <tr>\n",
       "      <th>3</th>\n",
       "      <td>Agra is well connected by excellent train services to Delhi such as The Shatabdi Express (2 hrs), Taj Express (2. 5 hrs), Intercity Express (3 hrs).</td>\n",
       "      <td>आग्रानिफअराय दिल्लीसिम थांनो थाखाय त्रेइननि फोनांजाब राहाया जोबोद मोजां लोगोसे मखʼजाथाव त्रेइनफोरा जाबाय- साताबदि एक्स-प्रेस( 2 घन्टा) ताज अक्सप्रेस (2,5 घन्टा) इन्टारसिति अक्सप्रेस (3 घन्टा)।</td>\n",
       "    </tr>\n",
       "    <tr>\n",
       "      <th>4</th>\n",
       "      <td>Agra is the one of the prominent destinations of the World Tourism map with three heritage monuments, Taj Mahal, Red Fort &amp; Fatehpur Sikri.</td>\n",
       "      <td>बुहुमनि दावबायारिफोरनि थाखाय आग्रानि मुंदांखा नायनो गोनां मान-सावगारिजों लोगोसे मोनथाम रोखोमनि गोसोखांथिया- ताज महल रेद फर्ट आरो फातेहपुर सिकरि।</td>\n",
       "    </tr>\n",
       "  </tbody>\n",
       "</table>\n",
       "</div>"
      ],
      "text/plain": [
       "                                                                                                                                                ENGLISH  \\\n",
       "0     Two of the best trains viz. Shatabdi express (between Delhi and Bhopal) and Taj Express (between Delhi and Gwalior) are available to access Agra.   \n",
       "1                                          Agra, on cross roads of national highways 2, 3 and 11, is excellently connected to all parts of the country.   \n",
       "2       Kheria Airport (Airport of Agra) is about 6 km from the Agra city centre and is easily accessible by taxis and auto rickshaws at nominal rates.   \n",
       "3  Agra is well connected by excellent train services to Delhi such as The Shatabdi Express (2 hrs), Taj Express (2. 5 hrs), Intercity Express (3 hrs).   \n",
       "4           Agra is the one of the prominent destinations of the World Tourism map with three heritage monuments, Taj Mahal, Red Fort & Fatehpur Sikri.   \n",
       "\n",
       "                                                                                                                                                                                               bodo  \n",
       "0                               रोखोमनै साबसिन त्रेइन जेरै- सताबदि अक्सप्रेस (देलही आरो भुपालनि गेजेराव) आरो ताज एक्सप्रेसनि (दिल्ली आरो गवालिरनि गेजेराव) आग्रासिम हाबग्रा लामाया थोजासे रोखोमनि।   \n",
       "1                                                                                       राजा लामानि 2, 3, आरो 11 आ आग्रासिम थांनो थाखाय हादोरनि गासैबो रोखोमनि लामाफोरजों जोबोद मोजाङै फोनांजाबनाय।  \n",
       "2                                                        सेरिया बिरखं गाथोना (आग्रानि बिरखं गाथोन) आरो नोगोरनिफ्राय 6.कि.मि. गोजानाव आरो जायगायावनो मोलाय अटʼ रिक्सायाव होनांनाय बेसेनाबो थि जखानि।  \n",
       "3  आग्रानिफअराय दिल्लीसिम थांनो थाखाय त्रेइननि फोनांजाब राहाया जोबोद मोजां लोगोसे मखʼजाथाव त्रेइनफोरा जाबाय- साताबदि एक्स-प्रेस( 2 घन्टा) ताज अक्सप्रेस (2,5 घन्टा) इन्टारसिति अक्सप्रेस (3 घन्टा)।  \n",
       "4                                                  बुहुमनि दावबायारिफोरनि थाखाय आग्रानि मुंदांखा नायनो गोनां मान-सावगारिजों लोगोसे मोनथाम रोखोमनि गोसोखांथिया- ताज महल रेद फर्ट आरो फातेहपुर सिकरि।  "
      ]
     },
     "execution_count": 34,
     "metadata": {},
     "output_type": "execute_result"
    }
   ],
   "source": [
    "train_df = pd.read_csv(\"s.csv\")\n",
    "mask = (train_df['ENGLISH'].str.len()>20) & (train_df['ENGLISH'].str.len()<200)\n",
    "train_df = train_df.loc[mask]\n",
    "\n",
    "train_df.head()"
   ]
  },
  {
   "cell_type": "code",
   "execution_count": 35,
   "metadata": {
    "execution": {
     "iopub.execute_input": "2021-06-11T11:06:00.848366Z",
     "iopub.status.busy": "2021-06-11T11:06:00.848056Z",
     "iopub.status.idle": "2021-06-11T11:06:00.852527Z",
     "shell.execute_reply": "2021-06-11T11:06:00.851721Z",
     "shell.execute_reply.started": "2021-06-11T11:06:00.84834Z"
    },
    "trusted": true
   },
   "outputs": [],
   "source": [
    "pd.set_option('display.max_colwidth', None)"
   ]
  },
  {
   "cell_type": "code",
   "execution_count": 36,
   "metadata": {},
   "outputs": [
    {
     "data": {
      "text/html": [
       "<div>\n",
       "<style scoped>\n",
       "    .dataframe tbody tr th:only-of-type {\n",
       "        vertical-align: middle;\n",
       "    }\n",
       "\n",
       "    .dataframe tbody tr th {\n",
       "        vertical-align: top;\n",
       "    }\n",
       "\n",
       "    .dataframe thead th {\n",
       "        text-align: right;\n",
       "    }\n",
       "</style>\n",
       "<table border=\"1\" class=\"dataframe\">\n",
       "  <thead>\n",
       "    <tr style=\"text-align: right;\">\n",
       "      <th></th>\n",
       "      <th>ENGLISH</th>\n",
       "      <th>bodo</th>\n",
       "    </tr>\n",
       "  </thead>\n",
       "  <tbody>\n",
       "    <tr>\n",
       "      <th>0</th>\n",
       "      <td>Two of the best trains viz. Shatabdi express (between Delhi and Bhopal) and Taj Express (between Delhi and Gwalior) are available to access Agra.</td>\n",
       "      <td>रोखोमनै साबसिन त्रेइन जेरै- सताबदि अक्सप्रेस (देलही आरो भुपालनि गेजेराव) आरो ताज एक्सप्रेसनि (दिल्ली आरो गवालिरनि गेजेराव) आग्रासिम हाबग्रा लामाया थोजासे रोखोमनि।</td>\n",
       "    </tr>\n",
       "    <tr>\n",
       "      <th>1</th>\n",
       "      <td>Agra, on cross roads of national highways 2, 3 and 11, is excellently connected to all parts of the country.</td>\n",
       "      <td>राजा लामानि 2, 3, आरो 11 आ आग्रासिम थांनो थाखाय हादोरनि गासैबो रोखोमनि लामाफोरजों जोबोद मोजाङै फोनांजाबनाय।</td>\n",
       "    </tr>\n",
       "    <tr>\n",
       "      <th>2</th>\n",
       "      <td>Kheria Airport (Airport of Agra) is about 6 km from the Agra city centre and is easily accessible by taxis and auto rickshaws at nominal rates.</td>\n",
       "      <td>सेरिया बिरखं गाथोना (आग्रानि बिरखं गाथोन) आरो नोगोरनिफ्राय 6.कि.मि. गोजानाव आरो जायगायावनो मोलाय अटʼ रिक्सायाव होनांनाय बेसेनाबो थि जखानि।</td>\n",
       "    </tr>\n",
       "    <tr>\n",
       "      <th>3</th>\n",
       "      <td>Agra is well connected by excellent train services to Delhi such as The Shatabdi Express (2 hrs), Taj Express (2. 5 hrs), Intercity Express (3 hrs).</td>\n",
       "      <td>आग्रानिफअराय दिल्लीसिम थांनो थाखाय त्रेइननि फोनांजाब राहाया जोबोद मोजां लोगोसे मखʼजाथाव त्रेइनफोरा जाबाय- साताबदि एक्स-प्रेस( 2 घन्टा) ताज अक्सप्रेस (2,5 घन्टा) इन्टारसिति अक्सप्रेस (3 घन्टा)।</td>\n",
       "    </tr>\n",
       "    <tr>\n",
       "      <th>4</th>\n",
       "      <td>Agra is the one of the prominent destinations of the World Tourism map with three heritage monuments, Taj Mahal, Red Fort &amp; Fatehpur Sikri.</td>\n",
       "      <td>बुहुमनि दावबायारिफोरनि थाखाय आग्रानि मुंदांखा नायनो गोनां मान-सावगारिजों लोगोसे मोनथाम रोखोमनि गोसोखांथिया- ताज महल रेद फर्ट आरो फातेहपुर सिकरि।</td>\n",
       "    </tr>\n",
       "    <tr>\n",
       "      <th>...</th>\n",
       "      <td>...</td>\n",
       "      <td>...</td>\n",
       "    </tr>\n",
       "    <tr>\n",
       "      <th>9094</th>\n",
       "      <td>ALMORA Spread over a horseshoe ridge at a height of 1,646 meters is Almora, once the centre of Kumaoni culture and the capital of the Chand dynasty.</td>\n",
       "      <td>आलमराया 1,656 मिटार गोजौवाव इंराजी महराव हाजो थिखिनियाव गोसारना दं, जाय मोनसे समाव कुमावनि हारिमुनि थावनिमोन आरो चाण्ड राजफोलेरनि राजथावनिमोन।</td>\n",
       "    </tr>\n",
       "    <tr>\n",
       "      <th>9095</th>\n",
       "      <td>To the north of the ridge is a breathtaking view of the trident shaped Trishul peaks.</td>\n",
       "      <td>साहानि खरʼनिफ्राय त्रिसुल महराव थानाय त्रिसुल हाजो थिखिनिखौ समायनायै नुनो मोनो।</td>\n",
       "    </tr>\n",
       "    <tr>\n",
       "      <th>9096</th>\n",
       "      <td>On the edges of Almora the Koshi and Suyal rivers cut through the mountains, while the hill sides are lined with fir and pine forests.</td>\n",
       "      <td>आलमरा जिंजों कसि आरो सुयाल दैमाया सिंखावलांदों आरो हाजो जिङा देबदारु आरो पाइन बिफांफोरजों सारि सारि जाना दं।</td>\n",
       "    </tr>\n",
       "    <tr>\n",
       "      <th>9097</th>\n",
       "      <td>Away from the main tourist humdrum of Nainital or Ranikhet, Almora has retained much of its traditional values and old world charm.</td>\n",
       "      <td>नाइनिटाल आरो रानिखेटनिफ्राय गोजानाव खम अनजिमानि दावबायारिफोर अलमराहा दोरोङारि नेम खान्थि आरो गोजाम मुलुगारि समायनाथि दं।</td>\n",
       "    </tr>\n",
       "    <tr>\n",
       "      <th>9098</th>\n",
       "      <td>One of the few hill stations that predated the British, the town still has cobbled streets and fascinating stone houses with exquisite carved wooden facades.</td>\n",
       "      <td>मोननैसोलʼ हाजोयारि जायगाफोरनि मोनसेया बृतिस फैनायनि सिगांनिनो, बे सोहोरनि पाक्कानि लामाफोरा आरो दंफांजों महर एरनाय अन्थाइजों लुनाय समायना ननि सिगां बाहागोफोरा दाबो दं।</td>\n",
       "    </tr>\n",
       "  </tbody>\n",
       "</table>\n",
       "<p>8162 rows × 2 columns</p>\n",
       "</div>"
      ],
      "text/plain": [
       "                                                                                                                                                             ENGLISH  \\\n",
       "0                  Two of the best trains viz. Shatabdi express (between Delhi and Bhopal) and Taj Express (between Delhi and Gwalior) are available to access Agra.   \n",
       "1                                                       Agra, on cross roads of national highways 2, 3 and 11, is excellently connected to all parts of the country.   \n",
       "2                    Kheria Airport (Airport of Agra) is about 6 km from the Agra city centre and is easily accessible by taxis and auto rickshaws at nominal rates.   \n",
       "3               Agra is well connected by excellent train services to Delhi such as The Shatabdi Express (2 hrs), Taj Express (2. 5 hrs), Intercity Express (3 hrs).   \n",
       "4                        Agra is the one of the prominent destinations of the World Tourism map with three heritage monuments, Taj Mahal, Red Fort & Fatehpur Sikri.   \n",
       "...                                                                                                                                                              ...   \n",
       "9094            ALMORA Spread over a horseshoe ridge at a height of 1,646 meters is Almora, once the centre of Kumaoni culture and the capital of the Chand dynasty.   \n",
       "9095                                                                           To the north of the ridge is a breathtaking view of the trident shaped Trishul peaks.   \n",
       "9096                          On the edges of Almora the Koshi and Suyal rivers cut through the mountains, while the hill sides are lined with fir and pine forests.   \n",
       "9097                             Away from the main tourist humdrum of Nainital or Ranikhet, Almora has retained much of its traditional values and old world charm.   \n",
       "9098   One of the few hill stations that predated the British, the town still has cobbled streets and fascinating stone houses with exquisite carved wooden facades.   \n",
       "\n",
       "                                                                                                                                                                                                  bodo  \n",
       "0                                  रोखोमनै साबसिन त्रेइन जेरै- सताबदि अक्सप्रेस (देलही आरो भुपालनि गेजेराव) आरो ताज एक्सप्रेसनि (दिल्ली आरो गवालिरनि गेजेराव) आग्रासिम हाबग्रा लामाया थोजासे रोखोमनि।   \n",
       "1                                                                                          राजा लामानि 2, 3, आरो 11 आ आग्रासिम थांनो थाखाय हादोरनि गासैबो रोखोमनि लामाफोरजों जोबोद मोजाङै फोनांजाबनाय।  \n",
       "2                                                           सेरिया बिरखं गाथोना (आग्रानि बिरखं गाथोन) आरो नोगोरनिफ्राय 6.कि.मि. गोजानाव आरो जायगायावनो मोलाय अटʼ रिक्सायाव होनांनाय बेसेनाबो थि जखानि।  \n",
       "3     आग्रानिफअराय दिल्लीसिम थांनो थाखाय त्रेइननि फोनांजाब राहाया जोबोद मोजां लोगोसे मखʼजाथाव त्रेइनफोरा जाबाय- साताबदि एक्स-प्रेस( 2 घन्टा) ताज अक्सप्रेस (2,5 घन्टा) इन्टारसिति अक्सप्रेस (3 घन्टा)।  \n",
       "4                                                     बुहुमनि दावबायारिफोरनि थाखाय आग्रानि मुंदांखा नायनो गोनां मान-सावगारिजों लोगोसे मोनथाम रोखोमनि गोसोखांथिया- ताज महल रेद फर्ट आरो फातेहपुर सिकरि।  \n",
       "...                                                                                                                                                                                                ...  \n",
       "9094                                                    आलमराया 1,656 मिटार गोजौवाव इंराजी महराव हाजो थिखिनियाव गोसारना दं, जाय मोनसे समाव कुमावनि हारिमुनि थावनिमोन आरो चाण्ड राजफोलेरनि राजथावनिमोन।  \n",
       "9095                                                                                                                   साहानि खरʼनिफ्राय त्रिसुल महराव थानाय त्रिसुल हाजो थिखिनिखौ समायनायै नुनो मोनो।  \n",
       "9096                                                                                      आलमरा जिंजों कसि आरो सुयाल दैमाया सिंखावलांदों आरो हाजो जिङा देबदारु आरो पाइन बिफांफोरजों सारि सारि जाना दं।  \n",
       "9097                                                                          नाइनिटाल आरो रानिखेटनिफ्राय गोजानाव खम अनजिमानि दावबायारिफोर अलमराहा दोरोङारि नेम खान्थि आरो गोजाम मुलुगारि समायनाथि दं।  \n",
       "9098                           मोननैसोलʼ हाजोयारि जायगाफोरनि मोनसेया बृतिस फैनायनि सिगांनिनो, बे सोहोरनि पाक्कानि लामाफोरा आरो दंफांजों महर एरनाय अन्थाइजों लुनाय समायना ननि सिगां बाहागोफोरा दाबो दं।  \n",
       "\n",
       "[8162 rows x 2 columns]"
      ]
     },
     "execution_count": 36,
     "metadata": {},
     "output_type": "execute_result"
    }
   ],
   "source": [
    "\n",
    "train_df.drop_duplicates()"
   ]
  },
  {
   "cell_type": "code",
   "execution_count": 37,
   "metadata": {},
   "outputs": [
    {
     "ename": "KeyboardInterrupt",
     "evalue": "",
     "output_type": "error",
     "traceback": [
      "\u001b[1;31m---------------------------------------------------------------------------\u001b[0m",
      "\u001b[1;31mKeyboardInterrupt\u001b[0m                         Traceback (most recent call last)",
      "Cell \u001b[1;32mIn[37], line 17\u001b[0m\n\u001b[0;32m     14\u001b[0m train_df[\u001b[39m'\u001b[39m\u001b[39mENGLISH\u001b[39m\u001b[39m'\u001b[39m] \u001b[39m=\u001b[39m train_df[\u001b[39m'\u001b[39m\u001b[39mENGLISH\u001b[39m\u001b[39m'\u001b[39m]\u001b[39m.\u001b[39mapply(\u001b[39mlambda\u001b[39;00m x: re\u001b[39m.\u001b[39msub(\u001b[39mr\u001b[39m\u001b[39m'\u001b[39m\u001b[39m\\\u001b[39m\u001b[39ms+\u001b[39m\u001b[39m'\u001b[39m, \u001b[39m'\u001b[39m\u001b[39m \u001b[39m\u001b[39m'\u001b[39m, x\u001b[39m.\u001b[39mstrip()))\n\u001b[0;32m     16\u001b[0m \u001b[39m# Remove extra whitespace for the 'बड़ो' column\u001b[39;00m\n\u001b[1;32m---> 17\u001b[0m train_df[\u001b[39m'\u001b[39m\u001b[39mbodo\u001b[39m\u001b[39m'\u001b[39m] \u001b[39m=\u001b[39m train_df[\u001b[39m'\u001b[39;49m\u001b[39mbodo\u001b[39;49m\u001b[39m'\u001b[39;49m]\u001b[39m.\u001b[39;49mapply(\u001b[39mlambda\u001b[39;49;00m x: re\u001b[39m.\u001b[39;49msub(\u001b[39mr\u001b[39;49m\u001b[39m'\u001b[39;49m\u001b[39m\\\u001b[39;49m\u001b[39ms+\u001b[39;49m\u001b[39m'\u001b[39;49m, \u001b[39m'\u001b[39;49m\u001b[39m \u001b[39;49m\u001b[39m'\u001b[39;49m, x\u001b[39m.\u001b[39;49mstrip()))\n\u001b[0;32m     19\u001b[0m \u001b[39m# Remove rows with empty values\u001b[39;00m\n\u001b[0;32m     20\u001b[0m train_df\u001b[39m.\u001b[39mreplace(\u001b[39m'\u001b[39m\u001b[39m'\u001b[39m, np\u001b[39m.\u001b[39mnan, inplace\u001b[39m=\u001b[39m\u001b[39mTrue\u001b[39;00m)\n",
      "File \u001b[1;32mc:\\Users\\dassn\\AppData\\Local\\Programs\\Python\\Python311\\Lib\\site-packages\\pandas\\core\\series.py:4771\u001b[0m, in \u001b[0;36mSeries.apply\u001b[1;34m(self, func, convert_dtype, args, **kwargs)\u001b[0m\n\u001b[0;32m   4661\u001b[0m \u001b[39mdef\u001b[39;00m \u001b[39mapply\u001b[39m(\n\u001b[0;32m   4662\u001b[0m     \u001b[39mself\u001b[39m,\n\u001b[0;32m   4663\u001b[0m     func: AggFuncType,\n\u001b[1;32m   (...)\u001b[0m\n\u001b[0;32m   4666\u001b[0m     \u001b[39m*\u001b[39m\u001b[39m*\u001b[39mkwargs,\n\u001b[0;32m   4667\u001b[0m ) \u001b[39m-\u001b[39m\u001b[39m>\u001b[39m DataFrame \u001b[39m|\u001b[39m Series:\n\u001b[0;32m   4668\u001b[0m     \u001b[39m\"\"\"\u001b[39;00m\n\u001b[0;32m   4669\u001b[0m \u001b[39m    Invoke function on values of Series.\u001b[39;00m\n\u001b[0;32m   4670\u001b[0m \n\u001b[1;32m   (...)\u001b[0m\n\u001b[0;32m   4769\u001b[0m \u001b[39m    dtype: float64\u001b[39;00m\n\u001b[0;32m   4770\u001b[0m \u001b[39m    \"\"\"\u001b[39;00m\n\u001b[1;32m-> 4771\u001b[0m     \u001b[39mreturn\u001b[39;00m SeriesApply(\u001b[39mself\u001b[39;49m, func, convert_dtype, args, kwargs)\u001b[39m.\u001b[39;49mapply()\n",
      "File \u001b[1;32mc:\\Users\\dassn\\AppData\\Local\\Programs\\Python\\Python311\\Lib\\site-packages\\pandas\\core\\apply.py:1123\u001b[0m, in \u001b[0;36mSeriesApply.apply\u001b[1;34m(self)\u001b[0m\n\u001b[0;32m   1120\u001b[0m     \u001b[39mreturn\u001b[39;00m \u001b[39mself\u001b[39m\u001b[39m.\u001b[39mapply_str()\n\u001b[0;32m   1122\u001b[0m \u001b[39m# self.f is Callable\u001b[39;00m\n\u001b[1;32m-> 1123\u001b[0m \u001b[39mreturn\u001b[39;00m \u001b[39mself\u001b[39;49m\u001b[39m.\u001b[39;49mapply_standard()\n",
      "File \u001b[1;32mc:\\Users\\dassn\\AppData\\Local\\Programs\\Python\\Python311\\Lib\\site-packages\\pandas\\core\\apply.py:1174\u001b[0m, in \u001b[0;36mSeriesApply.apply_standard\u001b[1;34m(self)\u001b[0m\n\u001b[0;32m   1172\u001b[0m     \u001b[39melse\u001b[39;00m:\n\u001b[0;32m   1173\u001b[0m         values \u001b[39m=\u001b[39m obj\u001b[39m.\u001b[39mastype(\u001b[39mobject\u001b[39m)\u001b[39m.\u001b[39m_values\n\u001b[1;32m-> 1174\u001b[0m         mapped \u001b[39m=\u001b[39m lib\u001b[39m.\u001b[39;49mmap_infer(\n\u001b[0;32m   1175\u001b[0m             values,\n\u001b[0;32m   1176\u001b[0m             f,\n\u001b[0;32m   1177\u001b[0m             convert\u001b[39m=\u001b[39;49m\u001b[39mself\u001b[39;49m\u001b[39m.\u001b[39;49mconvert_dtype,\n\u001b[0;32m   1178\u001b[0m         )\n\u001b[0;32m   1180\u001b[0m \u001b[39mif\u001b[39;00m \u001b[39mlen\u001b[39m(mapped) \u001b[39mand\u001b[39;00m \u001b[39misinstance\u001b[39m(mapped[\u001b[39m0\u001b[39m], ABCSeries):\n\u001b[0;32m   1181\u001b[0m     \u001b[39m# GH#43986 Need to do list(mapped) in order to get treated as nested\u001b[39;00m\n\u001b[0;32m   1182\u001b[0m     \u001b[39m#  See also GH#25959 regarding EA support\u001b[39;00m\n\u001b[0;32m   1183\u001b[0m     \u001b[39mreturn\u001b[39;00m obj\u001b[39m.\u001b[39m_constructor_expanddim(\u001b[39mlist\u001b[39m(mapped), index\u001b[39m=\u001b[39mobj\u001b[39m.\u001b[39mindex)\n",
      "File \u001b[1;32mc:\\Users\\dassn\\AppData\\Local\\Programs\\Python\\Python311\\Lib\\site-packages\\pandas\\_libs\\lib.pyx:2924\u001b[0m, in \u001b[0;36mpandas._libs.lib.map_infer\u001b[1;34m()\u001b[0m\n",
      "Cell \u001b[1;32mIn[37], line 17\u001b[0m, in \u001b[0;36m<lambda>\u001b[1;34m(x)\u001b[0m\n\u001b[0;32m     14\u001b[0m train_df[\u001b[39m'\u001b[39m\u001b[39mENGLISH\u001b[39m\u001b[39m'\u001b[39m] \u001b[39m=\u001b[39m train_df[\u001b[39m'\u001b[39m\u001b[39mENGLISH\u001b[39m\u001b[39m'\u001b[39m]\u001b[39m.\u001b[39mapply(\u001b[39mlambda\u001b[39;00m x: re\u001b[39m.\u001b[39msub(\u001b[39mr\u001b[39m\u001b[39m'\u001b[39m\u001b[39m\\\u001b[39m\u001b[39ms+\u001b[39m\u001b[39m'\u001b[39m, \u001b[39m'\u001b[39m\u001b[39m \u001b[39m\u001b[39m'\u001b[39m, x\u001b[39m.\u001b[39mstrip()))\n\u001b[0;32m     16\u001b[0m \u001b[39m# Remove extra whitespace for the 'बड़ो' column\u001b[39;00m\n\u001b[1;32m---> 17\u001b[0m train_df[\u001b[39m'\u001b[39m\u001b[39mbodo\u001b[39m\u001b[39m'\u001b[39m] \u001b[39m=\u001b[39m train_df[\u001b[39m'\u001b[39m\u001b[39mbodo\u001b[39m\u001b[39m'\u001b[39m]\u001b[39m.\u001b[39mapply(\u001b[39mlambda\u001b[39;00m x: re\u001b[39m.\u001b[39msub(\u001b[39mr\u001b[39m\u001b[39m'\u001b[39m\u001b[39m\\\u001b[39m\u001b[39ms+\u001b[39m\u001b[39m'\u001b[39m, \u001b[39m'\u001b[39m\u001b[39m \u001b[39m\u001b[39m'\u001b[39m, x\u001b[39m.\u001b[39mstrip()))\n\u001b[0;32m     19\u001b[0m \u001b[39m# Remove rows with empty values\u001b[39;00m\n\u001b[0;32m     20\u001b[0m train_df\u001b[39m.\u001b[39mreplace(\u001b[39m'\u001b[39m\u001b[39m'\u001b[39m, np\u001b[39m.\u001b[39mnan, inplace\u001b[39m=\u001b[39m\u001b[39mTrue\u001b[39;00m)\n",
      "\u001b[1;31mKeyboardInterrupt\u001b[0m: "
     ]
    }
   ],
   "source": [
    "# Remove unwanted characters, convert text to lowercase, and remove nan values for the 'ENGLISH' column\n",
    "train_df['ENGLISH'] = train_df['ENGLISH'].apply(lambda x: re.sub(r'[^a-zA-Z\\s]', '', str(x).lower()) if pd.notnull(x) else '')\n",
    "\n",
    "# Remove unwanted characters, convert text to lowercase, and remove nan values for the 'बड़ो' column\n",
    "train_df['bodo'] = train_df['bodo'].apply(lambda x: re.sub(r'[^a-zA-Z\\u0900-\\u097F\\s]', '', str(x).lower()) if pd.notnull(x) else '')\n",
    "\n",
    "# Remove punctuation for the 'ENGLISH' column\n",
    "train_df['ENGLISH'] = train_df['ENGLISH'].apply(lambda x: x.translate(str.maketrans('', '', string.punctuation)))\n",
    "\n",
    "# Remove punctuation for the 'बड़ो' column\n",
    "train_df['bodo'] = train_df['bodo'].apply(lambda x: x.translate(str.maketrans('', '', string.punctuation)))\n",
    "\n",
    "# Remove extra whitespace for the 'ENGLISH' column\n",
    "train_df['ENGLISH'] = train_df['ENGLISH'].apply(lambda x: re.sub(r'\\s+', ' ', x.strip()))\n",
    "\n",
    "# Remove extra whitespace for the 'बड़ो' column\n",
    "train_df['bodo'] = train_df['bodo'].apply(lambda x: re.sub(r'\\s+', ' ', x.strip()))\n",
    "\n",
    "# Remove rows with empty values\n",
    "train_df.replace('', np.nan, inplace=True)\n",
    "train_df.dropna(subset=['ENGLISH', 'bodo'], inplace=True)\n",
    "\n",
    "# Save the cleaned data to a new CSV file\n",
    "train_df.to_csv('sd.csv', index=False)\n"
   ]
  },
  {
   "cell_type": "code",
   "execution_count": null,
   "metadata": {},
   "outputs": [],
   "source": [
    "train_data, test_data = train_test_split(train_df, test_size=0.2, random_state=42)\n",
    "\n",
    "# Save the training and testing data to separate CSV files\n",
    "train_data.to_csv('train_data.csv', index=False)\n",
    "test_data.to_csv('test_data.csv', index=False)"
   ]
  },
  {
   "cell_type": "code",
   "execution_count": null,
   "metadata": {},
   "outputs": [
    {
     "data": {
      "text/html": [
       "<div>\n",
       "<style scoped>\n",
       "    .dataframe tbody tr th:only-of-type {\n",
       "        vertical-align: middle;\n",
       "    }\n",
       "\n",
       "    .dataframe tbody tr th {\n",
       "        vertical-align: top;\n",
       "    }\n",
       "\n",
       "    .dataframe thead th {\n",
       "        text-align: right;\n",
       "    }\n",
       "</style>\n",
       "<table border=\"1\" class=\"dataframe\">\n",
       "  <thead>\n",
       "    <tr style=\"text-align: right;\">\n",
       "      <th></th>\n",
       "      <th>ENGLISH</th>\n",
       "      <th>bodo</th>\n",
       "    </tr>\n",
       "  </thead>\n",
       "  <tbody>\n",
       "    <tr>\n",
       "      <th>0</th>\n",
       "      <td>after two years of fighting the aztecs were defeated</td>\n",
       "      <td>बोसोरनै दावहा नांनायनि उनाव एजटेकफोरा जेनदोंमोन।</td>\n",
       "    </tr>\n",
       "    <tr>\n",
       "      <th>1</th>\n",
       "      <td>there are numerous reports of marx going on pubcrawls down oxford street</td>\n",
       "      <td>अक्सफर्ड स्ट्रिड एना लामायाव मार्क्सा थांलायफैलाय खालामनायनि गोबां फोरमायथि दं।</td>\n",
       "    </tr>\n",
       "    <tr>\n",
       "      <th>2</th>\n",
       "      <td>sometime between april and april ponce de len waded ashore on the northeast coast of florida possibly near presentday st augustine</td>\n",
       "      <td>एप्रिल आरो एप्रिल नि गेजेरा माब्लाबा समाव प्लिरिदानि साहा सानजा बोरिमा सेरफाङाव पन्स दि लिउना गावनि जायगाखौ लादोंमोन जानोहागौ आथिखालाव बेयो सेन्ट आगुस्थिननि सेराव।</td>\n",
       "    </tr>\n",
       "    <tr>\n",
       "      <th>3</th>\n",
       "      <td>once that consistency is reached the milk is allowed to cool and oranges added</td>\n",
       "      <td>बैखौ मावखांनाय लोगोलोगो गायखेरखौ गसु खालामनाय जायो नारेंकमलाफोरखौ गलायनाय जायो।</td>\n",
       "    </tr>\n",
       "    <tr>\n",
       "      <th>4</th>\n",
       "      <td>accommodation in cozy nook includes thatched huts tree houses and trendy cottages with quirky bathrooms</td>\n",
       "      <td>कजि नुकाव थानाय खाबुफोरा जाबाय थोरिनि न दंखानि न आरो सरासनस्रा बाहायजाथाव दुगैग्रा न गोनां ट्रेनदि खथा।</td>\n",
       "    </tr>\n",
       "    <tr>\n",
       "      <th>...</th>\n",
       "      <td>...</td>\n",
       "      <td>...</td>\n",
       "    </tr>\n",
       "    <tr>\n",
       "      <th>6476</th>\n",
       "      <td>the honey tastes quite different from what you find in the markets elsewhere and as such has a very distinct flavour that many claim complete addition to</td>\n",
       "      <td>बेरे मोदैआ गुबुन हाथायफोराव मोननायनिख्रुइ थारै आलादा रोखोमनि थावनाय गोनां आरो बेखौ गोबां मानसियानो आलादा रोखोमनि जोबोर थावनाय गोनां होनना दाबि दैखाङो।</td>\n",
       "    </tr>\n",
       "    <tr>\n",
       "      <th>6477</th>\n",
       "      <td>bandhani is an intricate and time consuming process of tie and dyeing fabrics this process takes six months to a year for some saris and even the simplest patterns can take more than a month</td>\n",
       "      <td>गोबां समावनो बांसिन बाहाय बोनाय दानाय लुनाय खसाब बन्धनिया मोनसे समायना बे राहायै दानाय सारिया माब्लाबा द दाननिफ्राय बोसोरसे सम लायो आरो गोरलै दाथायनि दानाया दानसेनि बारा लायो।</td>\n",
       "    </tr>\n",
       "    <tr>\n",
       "      <th>6478</th>\n",
       "      <td>the country is geographically divided into the amazon the highlands the coast and the galpagos islands</td>\n",
       "      <td>बे हादरखौ भुमखौराङारि बिथिंजों आमाजान गोजौ हा ओनसोल लैथोनि बोरि ओनसोल आरो गलापागस दिब बाहागोआव राननाय जादों।</td>\n",
       "    </tr>\n",
       "    <tr>\n",
       "      <th>6479</th>\n",
       "      <td>select from the catch of the day lobsters giant crabs tiger prawn and ask them to grill it for you</td>\n",
       "      <td>सानसेयाव मोननायखौ सायावनो गेदेर खांख्राय नाथुर बन्दाखौ बिनो हागौ आरो बिसोरखौ नोंनि थाखाय थियारि खालाम होनो हागौ।</td>\n",
       "    </tr>\n",
       "    <tr>\n",
       "      <th>6480</th>\n",
       "      <td>the other major administrative problem that the government has been trying to solve is the cauvery river water dispute over the sharing of the rivers waters with the neighboring state of tamil nadu</td>\n",
       "      <td>गुबुन मोनसे गाहाइ खुंथायारि जेंना जायनि सुस्रांनायखौ सोरखारा नाजागासिनो दं बेयो तामिलनातुनि उसुंसे हादरसाजों दैसानि दै राननाय जाहोनखौ लाना सोमिजनाय काबेरी दैमा बिदान्थे।</td>\n",
       "    </tr>\n",
       "  </tbody>\n",
       "</table>\n",
       "<p>6481 rows × 2 columns</p>\n",
       "</div>"
      ],
      "text/plain": [
       "                                                                                                                                                                                                    ENGLISH  \\\n",
       "0                                                                                                                                                      after two years of fighting the aztecs were defeated   \n",
       "1                                                                                                                                  there are numerous reports of marx going on pubcrawls down oxford street   \n",
       "2                                                                        sometime between april and april ponce de len waded ashore on the northeast coast of florida possibly near presentday st augustine   \n",
       "3                                                                                                                            once that consistency is reached the milk is allowed to cool and oranges added   \n",
       "4                                                                                                   accommodation in cozy nook includes thatched huts tree houses and trendy cottages with quirky bathrooms   \n",
       "...                                                                                                                                                                                                     ...   \n",
       "6476                                              the honey tastes quite different from what you find in the markets elsewhere and as such has a very distinct flavour that many claim complete addition to   \n",
       "6477         bandhani is an intricate and time consuming process of tie and dyeing fabrics this process takes six months to a year for some saris and even the simplest patterns can take more than a month   \n",
       "6478                                                                                                 the country is geographically divided into the amazon the highlands the coast and the galpagos islands   \n",
       "6479                                                                                                     select from the catch of the day lobsters giant crabs tiger prawn and ask them to grill it for you   \n",
       "6480  the other major administrative problem that the government has been trying to solve is the cauvery river water dispute over the sharing of the rivers waters with the neighboring state of tamil nadu   \n",
       "\n",
       "                                                                                                                                                                                 bodo  \n",
       "0                                                                                                                                    बोसोरनै दावहा नांनायनि उनाव एजटेकफोरा जेनदोंमोन।  \n",
       "1                                                                                                     अक्सफर्ड स्ट्रिड एना लामायाव मार्क्सा थांलायफैलाय खालामनायनि गोबां फोरमायथि दं।  \n",
       "2                 एप्रिल आरो एप्रिल नि गेजेरा माब्लाबा समाव प्लिरिदानि साहा सानजा बोरिमा सेरफाङाव पन्स दि लिउना गावनि जायगाखौ लादोंमोन जानोहागौ आथिखालाव बेयो सेन्ट आगुस्थिननि सेराव।  \n",
       "3                                                                                                     बैखौ मावखांनाय लोगोलोगो गायखेरखौ गसु खालामनाय जायो नारेंकमलाफोरखौ गलायनाय जायो।  \n",
       "4                                                                             कजि नुकाव थानाय खाबुफोरा जाबाय थोरिनि न दंखानि न आरो सरासनस्रा बाहायजाथाव दुगैग्रा न गोनां ट्रेनदि खथा।  \n",
       "...                                                                                                                                                                               ...  \n",
       "6476                           बेरे मोदैआ गुबुन हाथायफोराव मोननायनिख्रुइ थारै आलादा रोखोमनि थावनाय गोनां आरो बेखौ गोबां मानसियानो आलादा रोखोमनि जोबोर थावनाय गोनां होनना दाबि दैखाङो।  \n",
       "6477  गोबां समावनो बांसिन बाहाय बोनाय दानाय लुनाय खसाब बन्धनिया मोनसे समायना बे राहायै दानाय सारिया माब्लाबा द दाननिफ्राय बोसोरसे सम लायो आरो गोरलै दाथायनि दानाया दानसेनि बारा लायो।  \n",
       "6478                                                                     बे हादरखौ भुमखौराङारि बिथिंजों आमाजान गोजौ हा ओनसोल लैथोनि बोरि ओनसोल आरो गलापागस दिब बाहागोआव राननाय जादों।  \n",
       "6479                                                                 सानसेयाव मोननायखौ सायावनो गेदेर खांख्राय नाथुर बन्दाखौ बिनो हागौ आरो बिसोरखौ नोंनि थाखाय थियारि खालाम होनो हागौ।  \n",
       "6480        गुबुन मोनसे गाहाइ खुंथायारि जेंना जायनि सुस्रांनायखौ सोरखारा नाजागासिनो दं बेयो तामिलनातुनि उसुंसे हादरसाजों दैसानि दै राननाय जाहोनखौ लाना सोमिजनाय काबेरी दैमा बिदान्थे।  \n",
       "\n",
       "[6481 rows x 2 columns]"
      ]
     },
     "execution_count": 9,
     "metadata": {},
     "output_type": "execute_result"
    }
   ],
   "source": [
    "train_df=pd.read_csv('train_data.csv')\n",
    "train_df"
   ]
  },
  {
   "attachments": {},
   "cell_type": "markdown",
   "metadata": {},
   "source": [
    "Tokenizer"
   ]
  },
  {
   "cell_type": "code",
   "execution_count": null,
   "metadata": {},
   "outputs": [
    {
     "name": "stdout",
     "output_type": "stream",
     "text": [
      "<keras.preprocessing.text.Tokenizer object at 0x000002663A9D6410>\n",
      "<keras.preprocessing.text.Tokenizer object at 0x000002663A9D6350>\n"
     ]
    }
   ],
   "source": [
    "eng = train_df['ENGLISH']\n",
    "hind = train_df['bodo']\n",
    "eng = eng.apply(lambda x: \"<SOS> \" + str(x) + \" <EOS>\")\n",
    "hind = hind.apply(lambda x: \"<SOS> \"+ str(x) + \" <EOS>\")\n",
    "filters = '!\"#$%&()*+,-./:;=?@[\\\\]^_`{|}~\\t\\n'\n",
    "oov_token = '<unk>'\n",
    "eng_tokenizer = tf.keras.preprocessing.text.Tokenizer(filters = filters, oov_token=oov_token)\n",
    "hind_tokenizer = tf.keras.preprocessing.text.Tokenizer(filters = filters, oov_token=oov_token)\n",
    "eng_tokenizer.fit_on_texts(eng)\n",
    "hind_tokenizer.fit_on_texts(hind)\n",
    "inputs = eng_tokenizer.texts_to_sequences(eng)\n",
    "targets = hind_tokenizer.texts_to_sequences(hind)\n",
    "print(eng_tokenizer)\n",
    "print(hind_tokenizer)"
   ]
  },
  {
   "cell_type": "code",
   "execution_count": null,
   "metadata": {
    "execution": {
     "iopub.execute_input": "2021-06-10T14:09:34.074987Z",
     "iopub.status.busy": "2021-06-10T14:09:34.074674Z",
     "iopub.status.idle": "2021-06-10T14:09:34.082087Z",
     "shell.execute_reply": "2021-06-10T14:09:34.081155Z",
     "shell.execute_reply.started": "2021-06-10T14:09:34.074957Z"
    },
    "trusted": true
   },
   "outputs": [
    {
     "name": "stdout",
     "output_type": "stream",
     "text": [
      "14745 27507\n"
     ]
    }
   ],
   "source": [
    "ENCODER_VOCAB = len(eng_tokenizer.word_index) + 1\n",
    "DECODER_VOCAB = len(hind_tokenizer.word_index) + 1\n",
    "print(ENCODER_VOCAB, DECODER_VOCAB)"
   ]
  },
  {
   "cell_type": "code",
   "execution_count": null,
   "metadata": {
    "execution": {
     "iopub.execute_input": "2021-06-10T14:09:37.98128Z",
     "iopub.status.busy": "2021-06-10T14:09:37.980962Z",
     "iopub.status.idle": "2021-06-10T14:09:38.480288Z",
     "shell.execute_reply": "2021-06-10T14:09:38.479461Z",
     "shell.execute_reply.started": "2021-06-10T14:09:37.981249Z"
    },
    "trusted": true
   },
   "outputs": [],
   "source": [
    "inputs = tf.keras.preprocessing.sequence.pad_sequences(inputs, maxlen=ENCODER_LEN, padding='post', truncating='post')\n",
    "targets = tf.keras.preprocessing.sequence.pad_sequences(targets, maxlen=DECODER_LEN, padding='post', truncating='post')\n",
    "inputs = tf.cast(inputs, dtype=tf.int64)\n",
    "targets = tf.cast(targets, dtype=tf.int64)"
   ]
  },
  {
   "cell_type": "code",
   "execution_count": null,
   "metadata": {},
   "outputs": [
    {
     "name": "stdout",
     "output_type": "stream",
     "text": [
      "tf.Tensor(\n",
      "[[    3   106   100 ...     0     0     0]\n",
      " [    3    39    12 ...     0     0     0]\n",
      " [    3  1194    90 ...     0     0     0]\n",
      " ...\n",
      " [    3     2   151 ...     0     0     0]\n",
      " [    3 14742    14 ...     0     0     0]\n",
      " [    3     2    44 ...     0     0     0]], shape=(6481, 100), dtype=int64)\n",
      "tf.Tensor(\n",
      "[[   2 3829  416 ...    0    0    0]\n",
      " [   2 2974 8748 ...    0    0    0]\n",
      " [   2 2431    4 ...    0    0    0]\n",
      " ...\n",
      " [   2    5 1084 ...    0    0    0]\n",
      " [   2 1151 8400 ...    0    0    0]\n",
      " [   2   11    7 ...    0    0    0]], shape=(6481, 100), dtype=int64)\n"
     ]
    }
   ],
   "source": [
    "print(inputs)\n",
    "print(targets)"
   ]
  },
  {
   "cell_type": "code",
   "execution_count": null,
   "metadata": {
    "execution": {
     "iopub.execute_input": "2021-06-10T14:09:52.714277Z",
     "iopub.status.busy": "2021-06-10T14:09:52.713965Z",
     "iopub.status.idle": "2021-06-10T14:09:52.752213Z",
     "shell.execute_reply": "2021-06-10T14:09:52.751437Z",
     "shell.execute_reply.started": "2021-06-10T14:09:52.714246Z"
    },
    "trusted": true
   },
   "outputs": [],
   "source": [
    "dataset = tf.data.Dataset.from_tensor_slices((inputs, targets)).shuffle(BUFFER_SIZE).batch(BATCH_SIZE)"
   ]
  },
  {
   "attachments": {},
   "cell_type": "markdown",
   "metadata": {},
   "source": [
    "# Transformer Model\n",
    "\n",
    "The next several blocks of code contain the vanilla Transformer model.\n",
    "\n",
    "If you want to know about what they are and how they work I suggest this video: https://www.youtube.com/watch?v=4Bdc55j80l8\n",
    "\n",
    "It does an excellent job of giving an overview about them and helped me in understanding them."
   ]
  },
  {
   "cell_type": "code",
   "execution_count": null,
   "metadata": {
    "execution": {
     "iopub.execute_input": "2021-06-10T14:09:53.937172Z",
     "iopub.status.busy": "2021-06-10T14:09:53.936857Z",
     "iopub.status.idle": "2021-06-10T14:09:53.948077Z",
     "shell.execute_reply": "2021-06-10T14:09:53.946926Z",
     "shell.execute_reply.started": "2021-06-10T14:09:53.937142Z"
    },
    "trusted": true
   },
   "outputs": [],
   "source": [
    "def get_angles(position, i, d_model):\n",
    "    angle_rates = 1 / np.power(10000, (2 * (i // 2)) / np.float32(d_model))\n",
    "    return position * angle_rates\n",
    "\n",
    "def positional_encoding(position, d_model):\n",
    "    angle_rads = get_angles(\n",
    "        np.arange(position)[:, np.newaxis],\n",
    "        np.arange(d_model)[np.newaxis, :],\n",
    "        d_model\n",
    "    )\n",
    "\n",
    "    angle_rads[:, 0::2] = np.sin(angle_rads[:, 0::2])\n",
    "\n",
    "    angle_rads[:, 1::2] = np.cos(angle_rads[:, 1::2])\n",
    "\n",
    "    pos_encoding = angle_rads[np.newaxis, ...]\n",
    "\n",
    "    return tf.cast(pos_encoding, dtype=tf.float32)\n",
    "\n",
    "def create_padding_mask(seq):\n",
    "    seq = tf.cast(tf.math.equal(seq, 0), tf.float32)\n",
    "    return seq[:, tf.newaxis, tf.newaxis, :]\n",
    "\n",
    "def create_look_ahead_mask(size):\n",
    "    mask = 1 - tf.linalg.band_part(tf.ones((size, size)), -1, 0)\n",
    "    return mask\n",
    "\n",
    "def scaled_dot_product_attention(q, k, v, mask):\n",
    "    matmul_qk = tf.matmul(q, k, transpose_b=True)\n",
    "\n",
    "    dk = tf.cast(tf.shape(k)[-1], tf.float32)\n",
    "    scaled_attention_logits = matmul_qk / tf.math.sqrt(dk)\n",
    "\n",
    "    if mask is not None:\n",
    "        scaled_attention_logits += (mask * -1e9)  \n",
    "\n",
    "    attention_weights = tf.nn.softmax(scaled_attention_logits, axis=-1)\n",
    "\n",
    "    output = tf.matmul(attention_weights, v)\n",
    "    return output, attention_weights\n"
   ]
  },
  {
   "cell_type": "code",
   "execution_count": null,
   "metadata": {
    "execution": {
     "iopub.execute_input": "2021-06-10T14:09:55.429247Z",
     "iopub.status.busy": "2021-06-10T14:09:55.428927Z",
     "iopub.status.idle": "2021-06-10T14:09:55.439706Z",
     "shell.execute_reply": "2021-06-10T14:09:55.438893Z",
     "shell.execute_reply.started": "2021-06-10T14:09:55.429217Z"
    },
    "trusted": true
   },
   "outputs": [],
   "source": [
    "class MultiHeadAttention(tf.keras.layers.Layer):\n",
    "    def __init__(self, d_model, num_heads):\n",
    "        super(MultiHeadAttention, self).__init__()\n",
    "        self.num_heads = num_heads\n",
    "        self.d_model = d_model\n",
    "\n",
    "        assert d_model % self.num_heads == 0\n",
    "\n",
    "        self.depth = d_model // self.num_heads\n",
    "\n",
    "        self.wq = tf.keras.layers.Dense(d_model)\n",
    "        self.wk = tf.keras.layers.Dense(d_model)\n",
    "        self.wv = tf.keras.layers.Dense(d_model)\n",
    "\n",
    "        self.dense = tf.keras.layers.Dense(d_model)\n",
    "        \n",
    "    def split_heads(self, x, batch_size):\n",
    "        x = tf.reshape(x, (batch_size, -1, self.num_heads, self.depth))\n",
    "        return tf.transpose(x, perm=[0, 2, 1, 3])\n",
    "    \n",
    "    def call(self, v, k, q, mask):\n",
    "        batch_size = tf.shape(q)[0]\n",
    "\n",
    "        q = self.wq(q)\n",
    "        k = self.wk(k)\n",
    "        v = self.wv(v)\n",
    "\n",
    "        q = self.split_heads(q, batch_size)\n",
    "        k = self.split_heads(k, batch_size)\n",
    "        v = self.split_heads(v, batch_size)\n",
    "\n",
    "        scaled_attention, attention_weights = scaled_dot_product_attention(\n",
    "            q, k, v, mask)\n",
    "\n",
    "        scaled_attention = tf.transpose(scaled_attention, perm=[0, 2, 1, 3])\n",
    "        \n",
    "        concat_attention = tf.reshape(scaled_attention, (batch_size, -1, self.d_model))\n",
    "        output = self.dense(concat_attention)\n",
    "            \n",
    "        return output, attention_weights\n",
    "    \n",
    "def point_wise_feed_forward_network(d_model, dff):\n",
    "    return tf.keras.Sequential([\n",
    "        tf.keras.layers.Dense(dff, activation='relu'),\n",
    "        tf.keras.layers.Dense(d_model)\n",
    "    ])"
   ]
  },
  {
   "cell_type": "code",
   "execution_count": null,
   "metadata": {
    "execution": {
     "iopub.execute_input": "2021-06-10T14:09:55.961284Z",
     "iopub.status.busy": "2021-06-10T14:09:55.960973Z",
     "iopub.status.idle": "2021-06-10T14:09:55.969195Z",
     "shell.execute_reply": "2021-06-10T14:09:55.96815Z",
     "shell.execute_reply.started": "2021-06-10T14:09:55.961256Z"
    },
    "trusted": true
   },
   "outputs": [],
   "source": [
    "class EncoderLayer(tf.keras.layers.Layer):\n",
    "    def __init__(self, d_model, num_heads, dff, rate=0.1):\n",
    "        super(EncoderLayer, self).__init__()\n",
    "\n",
    "        self.mha = MultiHeadAttention(d_model, num_heads)\n",
    "        self.ffn = point_wise_feed_forward_network(d_model, dff)\n",
    "\n",
    "        self.layernorm1 = tf.keras.layers.LayerNormalization(epsilon=1e-6)\n",
    "        self.layernorm2 = tf.keras.layers.LayerNormalization(epsilon=1e-6)\n",
    "\n",
    "        self.dropout1 = tf.keras.layers.Dropout(rate)\n",
    "        self.dropout2 = tf.keras.layers.Dropout(rate)\n",
    "    \n",
    "    def call(self, x, training, mask):\n",
    "        attn_output, _ = self.mha(x, x, x, mask)\n",
    "        attn_output = self.dropout1(attn_output, training=training)\n",
    "        out1 = self.layernorm1(x + attn_output)\n",
    "\n",
    "        ffn_output = self.ffn(out1)\n",
    "        ffn_output = self.dropout2(ffn_output, training=training)\n",
    "        out2 = self.layernorm2(out1 + ffn_output)\n",
    "\n",
    "        return out2"
   ]
  },
  {
   "cell_type": "code",
   "execution_count": null,
   "metadata": {
    "execution": {
     "iopub.execute_input": "2021-06-10T14:09:56.286455Z",
     "iopub.status.busy": "2021-06-10T14:09:56.28611Z",
     "iopub.status.idle": "2021-06-10T14:09:56.295735Z",
     "shell.execute_reply": "2021-06-10T14:09:56.294666Z",
     "shell.execute_reply.started": "2021-06-10T14:09:56.286425Z"
    },
    "trusted": true
   },
   "outputs": [],
   "source": [
    "class DecoderLayer(tf.keras.layers.Layer):\n",
    "    def __init__(self, d_model, num_heads, dff, rate=0.1):\n",
    "        super(DecoderLayer, self).__init__()\n",
    "\n",
    "        self.mha1 = MultiHeadAttention(d_model, num_heads)\n",
    "        self.mha2 = MultiHeadAttention(d_model, num_heads)\n",
    "\n",
    "        self.ffn = point_wise_feed_forward_network(d_model, dff)\n",
    "\n",
    "        self.layernorm1 = tf.keras.layers.LayerNormalization(epsilon=1e-6)\n",
    "        self.layernorm2 = tf.keras.layers.LayerNormalization(epsilon=1e-6)\n",
    "        self.layernorm3 = tf.keras.layers.LayerNormalization(epsilon=1e-6)\n",
    "\n",
    "        self.dropout1 = tf.keras.layers.Dropout(rate)\n",
    "        self.dropout2 = tf.keras.layers.Dropout(rate)\n",
    "        self.dropout3 = tf.keras.layers.Dropout(rate)\n",
    "    \n",
    "    \n",
    "    def call(self, x, enc_output, training, look_ahead_mask, padding_mask):\n",
    "        attn1, attn_weights_block1 = self.mha1(x, x, x, look_ahead_mask)\n",
    "        attn1 = self.dropout1(attn1, training=training)\n",
    "        out1 = self.layernorm1(attn1 + x)\n",
    "\n",
    "        attn2, attn_weights_block2 = self.mha2(enc_output, enc_output, out1, padding_mask)\n",
    "        attn2 = self.dropout2(attn2, training=training)\n",
    "        out2 = self.layernorm2(attn2 + out1)\n",
    "\n",
    "        ffn_output = self.ffn(out2)\n",
    "        ffn_output = self.dropout3(ffn_output, training=training)\n",
    "        out3 = self.layernorm3(ffn_output + out2)\n",
    "\n",
    "        return out3, attn_weights_block1, attn_weights_block2"
   ]
  },
  {
   "cell_type": "code",
   "execution_count": null,
   "metadata": {
    "execution": {
     "iopub.execute_input": "2021-06-10T14:09:56.657508Z",
     "iopub.status.busy": "2021-06-10T14:09:56.657156Z",
     "iopub.status.idle": "2021-06-10T14:09:56.671891Z",
     "shell.execute_reply": "2021-06-10T14:09:56.670883Z",
     "shell.execute_reply.started": "2021-06-10T14:09:56.657473Z"
    },
    "trusted": true
   },
   "outputs": [],
   "source": [
    "class Encoder(tf.keras.layers.Layer):\n",
    "    def __init__(self, num_layers, d_model, num_heads, dff, input_vocab_size, maximum_position_encoding, rate=0.1):\n",
    "        super(Encoder, self).__init__()\n",
    "\n",
    "        self.d_model = d_model\n",
    "        self.num_layers = num_layers\n",
    "\n",
    "        self.embedding = tf.keras.layers.Embedding(input_vocab_size, d_model)\n",
    "        self.pos_encoding = positional_encoding(maximum_position_encoding, self.d_model)\n",
    "\n",
    "        self.enc_layers = [EncoderLayer(d_model, num_heads, dff, rate) for _ in range(num_layers)]\n",
    "\n",
    "        self.dropout = tf.keras.layers.Dropout(rate)\n",
    "        \n",
    "    def call(self, x, training, mask):\n",
    "        seq_len = tf.shape(x)[1]\n",
    "\n",
    "        x = self.embedding(x)\n",
    "        x *= tf.math.sqrt(tf.cast(self.d_model, tf.float32))\n",
    "        x += self.pos_encoding[:, :seq_len, :]\n",
    "\n",
    "        x = self.dropout(x, training=training)\n",
    "    \n",
    "        for i in range(self.num_layers):\n",
    "            x = self.enc_layers[i](x, training, mask)\n",
    "    \n",
    "        return x\n",
    "    \n",
    "class Decoder(tf.keras.layers.Layer):\n",
    "        \n",
    "    def __init__(self, num_layers, d_model, num_heads, dff, target_vocab_size, maximum_position_encoding, rate=0.1):\n",
    "        super(Decoder, self).__init__()\n",
    "\n",
    "        self.d_model = d_model\n",
    "        self.num_layers = num_layers\n",
    "\n",
    "        self.embedding = tf.keras.layers.Embedding(target_vocab_size, d_model)\n",
    "        self.pos_encoding = positional_encoding(maximum_position_encoding, d_model)\n",
    "\n",
    "        self.dec_layers = [DecoderLayer(d_model, num_heads, dff, rate) for _ in range(num_layers)]\n",
    "        self.dropout = tf.keras.layers.Dropout(rate)\n",
    "    \n",
    "    def call(self, x, enc_output, training, look_ahead_mask, padding_mask):\n",
    "        seq_len = tf.shape(x)[1]\n",
    "        attention_weights = {}\n",
    "\n",
    "        x = self.embedding(x)\n",
    "        x *= tf.math.sqrt(tf.cast(self.d_model, tf.float32))\n",
    "        x += self.pos_encoding[:, :seq_len, :]\n",
    "\n",
    "        x = self.dropout(x, training=training)\n",
    "\n",
    "        for i in range(self.num_layers):\n",
    "            x, block1, block2 = self.dec_layers[i](x, enc_output, training, look_ahead_mask, padding_mask)\n",
    "\n",
    "            attention_weights['decoder_layer{}_block1'.format(i+1)] = block1\n",
    "            attention_weights['decoder_layer{}_block2'.format(i+1)] = block2\n",
    "    \n",
    "        return x, attention_weights\n",
    "    "
   ]
  },
  {
   "cell_type": "code",
   "execution_count": null,
   "metadata": {
    "execution": {
     "iopub.execute_input": "2021-06-10T14:09:57.077213Z",
     "iopub.status.busy": "2021-06-10T14:09:57.076862Z",
     "iopub.status.idle": "2021-06-10T14:09:57.083913Z",
     "shell.execute_reply": "2021-06-10T14:09:57.082953Z",
     "shell.execute_reply.started": "2021-06-10T14:09:57.077181Z"
    },
    "trusted": true
   },
   "outputs": [],
   "source": [
    "class Transformer(tf.keras.Model):\n",
    "    def __init__(self, num_layers, d_model, num_heads, dff, input_vocab_size, target_vocab_size, pe_input, pe_target, rate=0.1):\n",
    "        super(Transformer, self).__init__()\n",
    "\n",
    "        self.encoder = Encoder(num_layers, d_model, num_heads, dff, input_vocab_size, pe_input, rate)\n",
    "\n",
    "        self.decoder = Decoder(num_layers, d_model, num_heads, dff, target_vocab_size, pe_target, rate)\n",
    "\n",
    "        self.final_layer = tf.keras.layers.Dense(target_vocab_size)\n",
    "    \n",
    "    def call(self, inp, tar, training, enc_padding_mask, look_ahead_mask, dec_padding_mask):\n",
    "        enc_output = self.encoder(inp, training, enc_padding_mask)\n",
    "\n",
    "        dec_output, attention_weights = self.decoder(tar, enc_output, training, look_ahead_mask, dec_padding_mask)\n",
    "\n",
    "        final_output = self.final_layer(dec_output)\n",
    "\n",
    "        return final_output, attention_weights"
   ]
  },
  {
   "cell_type": "code",
   "execution_count": null,
   "metadata": {
    "execution": {
     "iopub.execute_input": "2021-06-10T14:10:28.376296Z",
     "iopub.status.busy": "2021-06-10T14:10:28.375983Z",
     "iopub.status.idle": "2021-06-10T14:10:28.38166Z",
     "shell.execute_reply": "2021-06-10T14:10:28.380533Z",
     "shell.execute_reply.started": "2021-06-10T14:10:28.376268Z"
    },
    "trusted": true
   },
   "outputs": [],
   "source": [
    "num_layers = 4\n",
    "d_model = 128\n",
    "dff = 512\n",
    "num_heads = 8\n",
    "dropout_rate = 0.1\n",
    "EPOCHS = 2000"
   ]
  },
  {
   "cell_type": "code",
   "execution_count": null,
   "metadata": {
    "execution": {
     "iopub.execute_input": "2021-06-10T14:10:30.676133Z",
     "iopub.status.busy": "2021-06-10T14:10:30.675799Z",
     "iopub.status.idle": "2021-06-10T14:10:30.68205Z",
     "shell.execute_reply": "2021-06-10T14:10:30.681201Z",
     "shell.execute_reply.started": "2021-06-10T14:10:30.676102Z"
    },
    "trusted": true
   },
   "outputs": [],
   "source": [
    "class CustomSchedule(tf.keras.optimizers.schedules.LearningRateSchedule):\n",
    "    def __init__(self, d_model, warmup_steps=4000):\n",
    "        super(CustomSchedule, self).__init__()\n",
    "\n",
    "        self.d_model = d_model\n",
    "        self.d_model = tf.cast(self.d_model, tf.float32)\n",
    "\n",
    "        self.warmup_steps = warmup_steps\n",
    "    \n",
    "    def __call__(self, step):\n",
    "        arg1 = tf.math.rsqrt(step)\n",
    "        arg2 = step * (self.warmup_steps ** -1.5)\n",
    "\n",
    "        return tf.math.rsqrt(self.d_model) * tf.math.minimum(arg1, arg2)"
   ]
  },
  {
   "cell_type": "code",
   "execution_count": null,
   "metadata": {
    "execution": {
     "iopub.execute_input": "2021-06-10T14:10:32.214771Z",
     "iopub.status.busy": "2021-06-10T14:10:32.214449Z",
     "iopub.status.idle": "2021-06-10T14:10:32.219362Z",
     "shell.execute_reply": "2021-06-10T14:10:32.218497Z",
     "shell.execute_reply.started": "2021-06-10T14:10:32.214742Z"
    },
    "trusted": true
   },
   "outputs": [],
   "source": [
    "optimizer = Adam(learning_rate=0.0001)\n"
   ]
  },
  {
   "cell_type": "code",
   "execution_count": null,
   "metadata": {
    "execution": {
     "iopub.execute_input": "2021-06-10T14:10:33.47104Z",
     "iopub.status.busy": "2021-06-10T14:10:33.470718Z",
     "iopub.status.idle": "2021-06-10T14:10:33.615836Z",
     "shell.execute_reply": "2021-06-10T14:10:33.614916Z",
     "shell.execute_reply.started": "2021-06-10T14:10:33.471011Z"
    },
    "trusted": true
   },
   "outputs": [
    {
     "data": {
      "text/plain": [
       "Text(0.5, 0, 'Train Step')"
      ]
     },
     "execution_count": 24,
     "metadata": {},
     "output_type": "execute_result"
    },
    {
     "data": {
      "image/png": "[encoded data removed]",
      "text/plain": [
       "<Figure size 640x480 with 1 Axes>"
      ]
     },
     "metadata": {},
     "output_type": "display_data"
    }
   ],
   "source": [
    "temp_learning_rate_schedule = CustomSchedule(d_model)\n",
    "\n",
    "plt.plot(temp_learning_rate_schedule(tf.range(40000, dtype=tf.float32)))\n",
    "plt.ylabel(\"Learning Rate\")\n",
    "plt.xlabel(\"Train Step\")"
   ]
  },
  {
   "cell_type": "code",
   "execution_count": null,
   "metadata": {
    "execution": {
     "iopub.execute_input": "2021-06-10T14:10:35.291354Z",
     "iopub.status.busy": "2021-06-10T14:10:35.291022Z",
     "iopub.status.idle": "2021-06-10T14:10:35.298707Z",
     "shell.execute_reply": "2021-06-10T14:10:35.297616Z",
     "shell.execute_reply.started": "2021-06-10T14:10:35.291306Z"
    },
    "trusted": true
   },
   "outputs": [],
   "source": [
    "loss_object = tf.keras.losses.SparseCategoricalCrossentropy(from_logits=True, reduction='none')\n",
    "def loss_function(real, pred):\n",
    "    mask = tf.math.logical_not(tf.math.equal(real, 0))\n",
    "    loss_ = loss_object(real, pred)\n",
    "\n",
    "    mask = tf.cast(mask, dtype=loss_.dtype)\n",
    "    loss_ *= mask\n",
    "\n",
    "    return tf.reduce_sum(loss_)/tf.reduce_sum(mask)\n",
    "\n",
    "\n",
    "def accuracy_function(real, pred):\n",
    "    accuracies = tf.equal(real, tf.argmax(pred, axis=2))\n",
    "\n",
    "    mask = tf.math.logical_not(tf.math.equal(real, 0))\n",
    "    accuracies = tf.math.logical_and(mask, accuracies)\n",
    "\n",
    "    accuracies = tf.cast(accuracies, dtype=tf.float32)\n",
    "    mask = tf.cast(mask, dtype=tf.float32)\n",
    "    return tf.reduce_sum(accuracies)/tf.reduce_sum(mask)"
   ]
  },
  {
   "cell_type": "code",
   "execution_count": null,
   "metadata": {
    "execution": {
     "iopub.execute_input": "2021-06-10T14:10:36.869718Z",
     "iopub.status.busy": "2021-06-10T14:10:36.869402Z",
     "iopub.status.idle": "2021-06-10T14:10:36.885854Z",
     "shell.execute_reply": "2021-06-10T14:10:36.884958Z",
     "shell.execute_reply.started": "2021-06-10T14:10:36.869689Z"
    },
    "trusted": true
   },
   "outputs": [],
   "source": [
    "train_loss = tf.keras.metrics.Mean(name='train_loss')\n",
    "train_accuracy = tf.keras.metrics.Mean(name='train_accuracy')"
   ]
  },
  {
   "cell_type": "code",
   "execution_count": null,
   "metadata": {
    "execution": {
     "iopub.execute_input": "2021-06-10T14:10:37.825298Z",
     "iopub.status.busy": "2021-06-10T14:10:37.824981Z",
     "iopub.status.idle": "2021-06-10T14:10:37.929442Z",
     "shell.execute_reply": "2021-06-10T14:10:37.928605Z",
     "shell.execute_reply.started": "2021-06-10T14:10:37.825267Z"
    },
    "trusted": true
   },
   "outputs": [],
   "source": [
    "transformer = Transformer(\n",
    "    num_layers=num_layers,\n",
    "    d_model=d_model,\n",
    "    num_heads=num_heads,\n",
    "    dff=dff,\n",
    "    input_vocab_size=ENCODER_VOCAB,\n",
    "    target_vocab_size=DECODER_VOCAB,\n",
    "    pe_input=1000,\n",
    "    pe_target=1000,\n",
    "    rate=dropout_rate)"
   ]
  },
  {
   "cell_type": "code",
   "execution_count": null,
   "metadata": {
    "execution": {
     "iopub.execute_input": "2021-06-10T14:10:39.23011Z",
     "iopub.status.busy": "2021-06-10T14:10:39.229799Z",
     "iopub.status.idle": "2021-06-10T14:10:39.235849Z",
     "shell.execute_reply": "2021-06-10T14:10:39.234674Z",
     "shell.execute_reply.started": "2021-06-10T14:10:39.230081Z"
    },
    "trusted": true
   },
   "outputs": [],
   "source": [
    "def create_masks(inp, tar):\n",
    "    enc_padding_mask = create_padding_mask(inp)\n",
    "    dec_padding_mask = create_padding_mask(inp)\n",
    "\n",
    "    look_ahead_mask = create_look_ahead_mask(tf.shape(tar)[1])\n",
    "    dec_target_padding_mask = create_padding_mask(tar)\n",
    "    combined_mask = tf.maximum(dec_target_padding_mask, look_ahead_mask)\n",
    "  \n",
    "    return enc_padding_mask, combined_mask, dec_padding_mask"
   ]
  },
  {
   "cell_type": "code",
   "execution_count": null,
   "metadata": {
    "execution": {
     "iopub.execute_input": "2021-06-10T14:10:41.438398Z",
     "iopub.status.busy": "2021-06-10T14:10:41.438062Z",
     "iopub.status.idle": "2021-06-10T14:10:41.469551Z",
     "shell.execute_reply": "2021-06-10T14:10:41.46879Z",
     "shell.execute_reply.started": "2021-06-10T14:10:41.438365Z"
    },
    "trusted": true
   },
   "outputs": [],
   "source": [
    "checkpoint_path = \"checkpoints\"\n",
    "\n",
    "ckpt = tf.train.Checkpoint(transformer=transformer, optimizer=optimizer)\n",
    "\n",
    "ckpt_manager = tf.train.CheckpointManager(ckpt, checkpoint_path, max_to_keep=5)\n",
    "\n",
    "if ckpt_manager.latest_checkpoint:\n",
    "     ckpt.restore(ckpt_manager.latest_checkpoint)\n",
    "     print ('Latest checkpoint restored!!')"
   ]
  },
  {
   "cell_type": "code",
   "execution_count": null,
   "metadata": {
    "execution": {
     "iopub.execute_input": "2021-06-10T14:10:42.507524Z",
     "iopub.status.busy": "2021-06-10T14:10:42.507174Z",
     "iopub.status.idle": "2021-06-10T14:10:42.513495Z",
     "shell.execute_reply": "2021-06-10T14:10:42.512657Z",
     "shell.execute_reply.started": "2021-06-10T14:10:42.507492Z"
    },
    "trusted": true
   },
   "outputs": [],
   "source": [
    "@tf.function\n",
    "def train_step(inp, tar):\n",
    "    tar_inp = tar[:, :-1]\n",
    "    tar_real = tar[:, 1:]\n",
    "\n",
    "    enc_padding_mask, combined_mask, dec_padding_mask = create_masks(inp, tar_inp)\n",
    "\n",
    "    with tf.GradientTape() as tape:\n",
    "        predictions, _ = transformer(\n",
    "            inp, tar_inp, \n",
    "            True, \n",
    "            enc_padding_mask, \n",
    "            combined_mask, \n",
    "            dec_padding_mask\n",
    "        )\n",
    "        loss = loss_function(tar_real, predictions)\n",
    "\n",
    "    gradients = tape.gradient(loss, transformer.trainable_variables)    \n",
    "    optimizer.apply_gradients(zip(gradients, transformer.trainable_variables))\n",
    "\n",
    "    train_loss(loss)\n",
    "    train_accuracy(accuracy_function(tar_real, predictions))"
   ]
  },
  {
   "cell_type": "code",
   "execution_count": null,
   "metadata": {
    "execution": {
     "iopub.execute_input": "2021-06-10T14:10:49.516145Z",
     "iopub.status.busy": "2021-06-10T14:10:49.515809Z",
     "iopub.status.idle": "2021-06-10T14:11:03.754328Z",
     "shell.execute_reply": "2021-06-10T14:11:03.752092Z",
     "shell.execute_reply.started": "2021-06-10T14:10:49.516113Z"
    },
    "trusted": true
   },
   "outputs": [
    {
     "name": "stdout",
     "output_type": "stream",
     "text": [
      "Epoch 1 Batch 0 Loss 10.2224 Accuracy 0.0000\n",
      "Epoch 1 Loss 9.8063 Accuracy 0.0574\n",
      "Time taken for 1 epoch: 609.5783112049103 secs\n",
      "\n",
      "Epoch 2 Batch 0 Loss 9.3289 Accuracy 0.0574\n",
      "Epoch 2 Loss 9.0826 Accuracy 0.0580\n",
      "Time taken for 1 epoch: 569.3887691497803 secs\n",
      "\n",
      "Epoch 3 Batch 0 Loss 8.7411 Accuracy 0.0580\n",
      "Epoch 3 Loss 8.6229 Accuracy 0.0583\n",
      "Time taken for 1 epoch: 583.3893785476685 secs\n",
      "\n",
      "Epoch 4 Batch 0 Loss 8.4749 Accuracy 0.0583\n",
      "Epoch 4 Loss 8.3790 Accuracy 0.0584\n",
      "Time taken for 1 epoch: 575.3674850463867 secs\n",
      "\n",
      "Epoch 5 Batch 0 Loss 8.2304 Accuracy 0.0584\n",
      "Saving checkpoint for epoch 5 at checkpoints\\ckpt-1\n",
      "Saving checkpoint for epoch 5 at checkpoints\\ckpt-2\n",
      "Saving checkpoint for epoch 5 at checkpoints\\ckpt-3\n",
      "Saving checkpoint for epoch 5 at checkpoints\\ckpt-4\n",
      "Saving checkpoint for epoch 5 at checkpoints\\ckpt-5\n",
      "Saving checkpoint for epoch 5 at checkpoints\\ckpt-6\n",
      "Saving checkpoint for epoch 5 at checkpoints\\ckpt-7\n",
      "Saving checkpoint for epoch 5 at checkpoints\\ckpt-8\n",
      "Saving checkpoint for epoch 5 at checkpoints\\ckpt-9\n",
      "Saving checkpoint for epoch 5 at checkpoints\\ckpt-10\n",
      "Saving checkpoint for epoch 5 at checkpoints\\ckpt-11\n",
      "Saving checkpoint for epoch 5 at checkpoints\\ckpt-12\n",
      "Saving checkpoint for epoch 5 at checkpoints\\ckpt-13\n",
      "Saving checkpoint for epoch 5 at checkpoints\\ckpt-14\n",
      "Saving checkpoint for epoch 5 at checkpoints\\ckpt-15\n",
      "Saving checkpoint for epoch 5 at checkpoints\\ckpt-16\n",
      "Saving checkpoint for epoch 5 at checkpoints\\ckpt-17\n",
      "Saving checkpoint for epoch 5 at checkpoints\\ckpt-18\n",
      "Saving checkpoint for epoch 5 at checkpoints\\ckpt-19\n",
      "Saving checkpoint for epoch 5 at checkpoints\\ckpt-20\n",
      "Saving checkpoint for epoch 5 at checkpoints\\ckpt-21\n",
      "Saving checkpoint for epoch 5 at checkpoints\\ckpt-22\n",
      "Saving checkpoint for epoch 5 at checkpoints\\ckpt-23\n",
      "Saving checkpoint for epoch 5 at checkpoints\\ckpt-24\n",
      "Saving checkpoint for epoch 5 at checkpoints\\ckpt-25\n",
      "Saving checkpoint for epoch 5 at checkpoints\\ckpt-26\n",
      "Saving checkpoint for epoch 5 at checkpoints\\ckpt-27\n",
      "Saving checkpoint for epoch 5 at checkpoints\\ckpt-28\n",
      "Saving checkpoint for epoch 5 at checkpoints\\ckpt-29\n",
      "Saving checkpoint for epoch 5 at checkpoints\\ckpt-30\n",
      "Saving checkpoint for epoch 5 at checkpoints\\ckpt-31\n",
      "Saving checkpoint for epoch 5 at checkpoints\\ckpt-32\n",
      "Saving checkpoint for epoch 5 at checkpoints\\ckpt-33\n",
      "Saving checkpoint for epoch 5 at checkpoints\\ckpt-34\n",
      "Saving checkpoint for epoch 5 at checkpoints\\ckpt-35\n",
      "Saving checkpoint for epoch 5 at checkpoints\\ckpt-36\n",
      "Saving checkpoint for epoch 5 at checkpoints\\ckpt-37\n",
      "Saving checkpoint for epoch 5 at checkpoints\\ckpt-38\n",
      "Saving checkpoint for epoch 5 at checkpoints\\ckpt-39\n",
      "Saving checkpoint for epoch 5 at checkpoints\\ckpt-40\n",
      "Saving checkpoint for epoch 5 at checkpoints\\ckpt-41\n",
      "Saving checkpoint for epoch 5 at checkpoints\\ckpt-42\n",
      "Saving checkpoint for epoch 5 at checkpoints\\ckpt-43\n",
      "Saving checkpoint for epoch 5 at checkpoints\\ckpt-44\n",
      "Saving checkpoint for epoch 5 at checkpoints\\ckpt-45\n",
      "Saving checkpoint for epoch 5 at checkpoints\\ckpt-46\n",
      "Saving checkpoint for epoch 5 at checkpoints\\ckpt-47\n",
      "Saving checkpoint for epoch 5 at checkpoints\\ckpt-48\n",
      "Saving checkpoint for epoch 5 at checkpoints\\ckpt-49\n",
      "Saving checkpoint for epoch 5 at checkpoints\\ckpt-50\n",
      "Saving checkpoint for epoch 5 at checkpoints\\ckpt-51\n",
      "Saving checkpoint for epoch 5 at checkpoints\\ckpt-52\n",
      "Saving checkpoint for epoch 5 at checkpoints\\ckpt-53\n",
      "Saving checkpoint for epoch 5 at checkpoints\\ckpt-54\n",
      "Saving checkpoint for epoch 5 at checkpoints\\ckpt-55\n",
      "Saving checkpoint for epoch 5 at checkpoints\\ckpt-56\n",
      "Saving checkpoint for epoch 5 at checkpoints\\ckpt-57\n",
      "Saving checkpoint for epoch 5 at checkpoints\\ckpt-58\n",
      "Saving checkpoint for epoch 5 at checkpoints\\ckpt-59\n",
      "Saving checkpoint for epoch 5 at checkpoints\\ckpt-60\n",
      "Saving checkpoint for epoch 5 at checkpoints\\ckpt-61\n",
      "Saving checkpoint for epoch 5 at checkpoints\\ckpt-62\n",
      "Saving checkpoint for epoch 5 at checkpoints\\ckpt-63\n",
      "Saving checkpoint for epoch 5 at checkpoints\\ckpt-64\n",
      "Saving checkpoint for epoch 5 at checkpoints\\ckpt-65\n",
      "Saving checkpoint for epoch 5 at checkpoints\\ckpt-66\n",
      "Saving checkpoint for epoch 5 at checkpoints\\ckpt-67\n",
      "Saving checkpoint for epoch 5 at checkpoints\\ckpt-68\n",
      "Saving checkpoint for epoch 5 at checkpoints\\ckpt-69\n",
      "Saving checkpoint for epoch 5 at checkpoints\\ckpt-70\n",
      "Saving checkpoint for epoch 5 at checkpoints\\ckpt-71\n",
      "Saving checkpoint for epoch 5 at checkpoints\\ckpt-72\n",
      "Saving checkpoint for epoch 5 at checkpoints\\ckpt-73\n",
      "Saving checkpoint for epoch 5 at checkpoints\\ckpt-74\n",
      "Saving checkpoint for epoch 5 at checkpoints\\ckpt-75\n",
      "Saving checkpoint for epoch 5 at checkpoints\\ckpt-76\n",
      "Saving checkpoint for epoch 5 at checkpoints\\ckpt-77\n",
      "Saving checkpoint for epoch 5 at checkpoints\\ckpt-78\n",
      "Saving checkpoint for epoch 5 at checkpoints\\ckpt-79\n",
      "Saving checkpoint for epoch 5 at checkpoints\\ckpt-80\n",
      "Saving checkpoint for epoch 5 at checkpoints\\ckpt-81\n",
      "Saving checkpoint for epoch 5 at checkpoints\\ckpt-82\n",
      "Saving checkpoint for epoch 5 at checkpoints\\ckpt-83\n",
      "Saving checkpoint for epoch 5 at checkpoints\\ckpt-84\n",
      "Saving checkpoint for epoch 5 at checkpoints\\ckpt-85\n",
      "Saving checkpoint for epoch 5 at checkpoints\\ckpt-86\n",
      "Saving checkpoint for epoch 5 at checkpoints\\ckpt-87\n",
      "Saving checkpoint for epoch 5 at checkpoints\\ckpt-88\n",
      "Saving checkpoint for epoch 5 at checkpoints\\ckpt-89\n",
      "Saving checkpoint for epoch 5 at checkpoints\\ckpt-90\n",
      "Saving checkpoint for epoch 5 at checkpoints\\ckpt-91\n",
      "Saving checkpoint for epoch 5 at checkpoints\\ckpt-92\n",
      "Saving checkpoint for epoch 5 at checkpoints\\ckpt-93\n",
      "Saving checkpoint for epoch 5 at checkpoints\\ckpt-94\n",
      "Saving checkpoint for epoch 5 at checkpoints\\ckpt-95\n",
      "Saving checkpoint for epoch 5 at checkpoints\\ckpt-96\n",
      "Saving checkpoint for epoch 5 at checkpoints\\ckpt-97\n",
      "Saving checkpoint for epoch 5 at checkpoints\\ckpt-98\n",
      "Saving checkpoint for epoch 5 at checkpoints\\ckpt-99\n",
      "Saving checkpoint for epoch 5 at checkpoints\\ckpt-100\n",
      "Saving checkpoint for epoch 5 at checkpoints\\ckpt-101\n",
      "Saving checkpoint for epoch 5 at checkpoints\\ckpt-102\n",
      "Epoch 5 Loss 8.2794 Accuracy 0.0609\n",
      "Time taken for 1 epoch: 656.0717191696167 secs\n",
      "\n",
      "Epoch 6 Batch 0 Loss 8.2158 Accuracy 0.0610\n",
      "Epoch 6 Loss 8.2226 Accuracy 0.0655\n",
      "Time taken for 1 epoch: 569.2667818069458 secs\n",
      "\n",
      "Epoch 7 Batch 0 Loss 8.2270 Accuracy 0.0655\n",
      "Epoch 7 Loss 8.1558 Accuracy 0.0691\n",
      "Time taken for 1 epoch: 604.6166181564331 secs\n",
      "\n",
      "Epoch 8 Batch 0 Loss 8.0722 Accuracy 0.0691\n"
     ]
    },
    {
     "ename": "KeyboardInterrupt",
     "evalue": "",
     "output_type": "error",
     "traceback": [
      "\u001b[1;31m---------------------------------------------------------------------------\u001b[0m",
      "\u001b[1;31mKeyboardInterrupt\u001b[0m                         Traceback (most recent call last)",
      "Cell \u001b[1;32mIn[31], line 7\u001b[0m\n\u001b[0;32m      4\u001b[0m train_loss\u001b[39m.\u001b[39mreset_states()\n\u001b[0;32m      6\u001b[0m \u001b[39mfor\u001b[39;00m (batch, (inp, tar)) \u001b[39min\u001b[39;00m \u001b[39menumerate\u001b[39m(dataset):\n\u001b[1;32m----> 7\u001b[0m     train_step(inp, tar)\n\u001b[0;32m      9\u001b[0m     \u001b[39mif\u001b[39;00m batch \u001b[39m%\u001b[39m \u001b[39m200\u001b[39m \u001b[39m==\u001b[39m \u001b[39m0\u001b[39m:\n\u001b[0;32m     10\u001b[0m         \u001b[39mprint\u001b[39m(\u001b[39mf\u001b[39m\u001b[39m'\u001b[39m\u001b[39mEpoch \u001b[39m\u001b[39m{\u001b[39;00mepoch \u001b[39m+\u001b[39m \u001b[39m1\u001b[39m\u001b[39m}\u001b[39;00m\u001b[39m Batch \u001b[39m\u001b[39m{\u001b[39;00mbatch\u001b[39m}\u001b[39;00m\u001b[39m Loss \u001b[39m\u001b[39m{\u001b[39;00mtrain_loss\u001b[39m.\u001b[39mresult()\u001b[39m:\u001b[39;00m\u001b[39m.4f\u001b[39m\u001b[39m}\u001b[39;00m\u001b[39m Accuracy \u001b[39m\u001b[39m{\u001b[39;00mtrain_accuracy\u001b[39m.\u001b[39mresult()\u001b[39m:\u001b[39;00m\u001b[39m.4f\u001b[39m\u001b[39m}\u001b[39;00m\u001b[39m'\u001b[39m)\n",
      "File \u001b[1;32m~\\AppData\\Roaming\\Python\\Python311\\site-packages\\tensorflow\\python\\util\\traceback_utils.py:150\u001b[0m, in \u001b[0;36mfilter_traceback.<locals>.error_handler\u001b[1;34m(*args, **kwargs)\u001b[0m\n\u001b[0;32m    148\u001b[0m filtered_tb \u001b[39m=\u001b[39m \u001b[39mNone\u001b[39;00m\n\u001b[0;32m    149\u001b[0m \u001b[39mtry\u001b[39;00m:\n\u001b[1;32m--> 150\u001b[0m   \u001b[39mreturn\u001b[39;00m fn(\u001b[39m*\u001b[39;49margs, \u001b[39m*\u001b[39;49m\u001b[39m*\u001b[39;49mkwargs)\n\u001b[0;32m    151\u001b[0m \u001b[39mexcept\u001b[39;00m \u001b[39mException\u001b[39;00m \u001b[39mas\u001b[39;00m e:\n\u001b[0;32m    152\u001b[0m   filtered_tb \u001b[39m=\u001b[39m _process_traceback_frames(e\u001b[39m.\u001b[39m__traceback__)\n",
      "File \u001b[1;32m~\\AppData\\Roaming\\Python\\Python311\\site-packages\\tensorflow\\python\\eager\\polymorphic_function\\polymorphic_function.py:894\u001b[0m, in \u001b[0;36mFunction.__call__\u001b[1;34m(self, *args, **kwds)\u001b[0m\n\u001b[0;32m    891\u001b[0m compiler \u001b[39m=\u001b[39m \u001b[39m\"\u001b[39m\u001b[39mxla\u001b[39m\u001b[39m\"\u001b[39m \u001b[39mif\u001b[39;00m \u001b[39mself\u001b[39m\u001b[39m.\u001b[39m_jit_compile \u001b[39melse\u001b[39;00m \u001b[39m\"\u001b[39m\u001b[39mnonXla\u001b[39m\u001b[39m\"\u001b[39m\n\u001b[0;32m    893\u001b[0m \u001b[39mwith\u001b[39;00m OptionalXlaContext(\u001b[39mself\u001b[39m\u001b[39m.\u001b[39m_jit_compile):\n\u001b[1;32m--> 894\u001b[0m   result \u001b[39m=\u001b[39m \u001b[39mself\u001b[39;49m\u001b[39m.\u001b[39;49m_call(\u001b[39m*\u001b[39;49margs, \u001b[39m*\u001b[39;49m\u001b[39m*\u001b[39;49mkwds)\n\u001b[0;32m    896\u001b[0m new_tracing_count \u001b[39m=\u001b[39m \u001b[39mself\u001b[39m\u001b[39m.\u001b[39mexperimental_get_tracing_count()\n\u001b[0;32m    897\u001b[0m without_tracing \u001b[39m=\u001b[39m (tracing_count \u001b[39m==\u001b[39m new_tracing_count)\n",
      "File \u001b[1;32m~\\AppData\\Roaming\\Python\\Python311\\site-packages\\tensorflow\\python\\eager\\polymorphic_function\\polymorphic_function.py:926\u001b[0m, in \u001b[0;36mFunction._call\u001b[1;34m(self, *args, **kwds)\u001b[0m\n\u001b[0;32m    923\u001b[0m   \u001b[39mself\u001b[39m\u001b[39m.\u001b[39m_lock\u001b[39m.\u001b[39mrelease()\n\u001b[0;32m    924\u001b[0m   \u001b[39m# In this case we have created variables on the first call, so we run the\u001b[39;00m\n\u001b[0;32m    925\u001b[0m   \u001b[39m# defunned version which is guaranteed to never create variables.\u001b[39;00m\n\u001b[1;32m--> 926\u001b[0m   \u001b[39mreturn\u001b[39;00m \u001b[39mself\u001b[39;49m\u001b[39m.\u001b[39;49m_no_variable_creation_fn(\u001b[39m*\u001b[39;49margs, \u001b[39m*\u001b[39;49m\u001b[39m*\u001b[39;49mkwds)  \u001b[39m# pylint: disable=not-callable\u001b[39;00m\n\u001b[0;32m    927\u001b[0m \u001b[39melif\u001b[39;00m \u001b[39mself\u001b[39m\u001b[39m.\u001b[39m_variable_creation_fn \u001b[39mis\u001b[39;00m \u001b[39mnot\u001b[39;00m \u001b[39mNone\u001b[39;00m:\n\u001b[0;32m    928\u001b[0m   \u001b[39m# Release the lock early so that multiple threads can perform the call\u001b[39;00m\n\u001b[0;32m    929\u001b[0m   \u001b[39m# in parallel.\u001b[39;00m\n\u001b[0;32m    930\u001b[0m   \u001b[39mself\u001b[39m\u001b[39m.\u001b[39m_lock\u001b[39m.\u001b[39mrelease()\n",
      "File \u001b[1;32m~\\AppData\\Roaming\\Python\\Python311\\site-packages\\tensorflow\\python\\eager\\polymorphic_function\\tracing_compiler.py:143\u001b[0m, in \u001b[0;36mTracingCompiler.__call__\u001b[1;34m(self, *args, **kwargs)\u001b[0m\n\u001b[0;32m    140\u001b[0m \u001b[39mwith\u001b[39;00m \u001b[39mself\u001b[39m\u001b[39m.\u001b[39m_lock:\n\u001b[0;32m    141\u001b[0m   (concrete_function,\n\u001b[0;32m    142\u001b[0m    filtered_flat_args) \u001b[39m=\u001b[39m \u001b[39mself\u001b[39m\u001b[39m.\u001b[39m_maybe_define_function(args, kwargs)\n\u001b[1;32m--> 143\u001b[0m \u001b[39mreturn\u001b[39;00m concrete_function\u001b[39m.\u001b[39;49m_call_flat(\n\u001b[0;32m    144\u001b[0m     filtered_flat_args, captured_inputs\u001b[39m=\u001b[39;49mconcrete_function\u001b[39m.\u001b[39;49mcaptured_inputs)\n",
      "File \u001b[1;32m~\\AppData\\Roaming\\Python\\Python311\\site-packages\\tensorflow\\python\\eager\\polymorphic_function\\monomorphic_function.py:1757\u001b[0m, in \u001b[0;36mConcreteFunction._call_flat\u001b[1;34m(self, args, captured_inputs, cancellation_manager)\u001b[0m\n\u001b[0;32m   1753\u001b[0m possible_gradient_type \u001b[39m=\u001b[39m gradients_util\u001b[39m.\u001b[39mPossibleTapeGradientTypes(args)\n\u001b[0;32m   1754\u001b[0m \u001b[39mif\u001b[39;00m (possible_gradient_type \u001b[39m==\u001b[39m gradients_util\u001b[39m.\u001b[39mPOSSIBLE_GRADIENT_TYPES_NONE\n\u001b[0;32m   1755\u001b[0m     \u001b[39mand\u001b[39;00m executing_eagerly):\n\u001b[0;32m   1756\u001b[0m   \u001b[39m# No tape is watching; skip to running the function.\u001b[39;00m\n\u001b[1;32m-> 1757\u001b[0m   \u001b[39mreturn\u001b[39;00m \u001b[39mself\u001b[39m\u001b[39m.\u001b[39m_build_call_outputs(\u001b[39mself\u001b[39;49m\u001b[39m.\u001b[39;49m_inference_function\u001b[39m.\u001b[39;49mcall(\n\u001b[0;32m   1758\u001b[0m       ctx, args, cancellation_manager\u001b[39m=\u001b[39;49mcancellation_manager))\n\u001b[0;32m   1759\u001b[0m forward_backward \u001b[39m=\u001b[39m \u001b[39mself\u001b[39m\u001b[39m.\u001b[39m_select_forward_and_backward_functions(\n\u001b[0;32m   1760\u001b[0m     args,\n\u001b[0;32m   1761\u001b[0m     possible_gradient_type,\n\u001b[0;32m   1762\u001b[0m     executing_eagerly)\n\u001b[0;32m   1763\u001b[0m forward_function, args_with_tangents \u001b[39m=\u001b[39m forward_backward\u001b[39m.\u001b[39mforward()\n",
      "File \u001b[1;32m~\\AppData\\Roaming\\Python\\Python311\\site-packages\\tensorflow\\python\\eager\\polymorphic_function\\monomorphic_function.py:381\u001b[0m, in \u001b[0;36m_EagerDefinedFunction.call\u001b[1;34m(self, ctx, args, cancellation_manager)\u001b[0m\n\u001b[0;32m    379\u001b[0m \u001b[39mwith\u001b[39;00m _InterpolateFunctionError(\u001b[39mself\u001b[39m):\n\u001b[0;32m    380\u001b[0m   \u001b[39mif\u001b[39;00m cancellation_manager \u001b[39mis\u001b[39;00m \u001b[39mNone\u001b[39;00m:\n\u001b[1;32m--> 381\u001b[0m     outputs \u001b[39m=\u001b[39m execute\u001b[39m.\u001b[39;49mexecute(\n\u001b[0;32m    382\u001b[0m         \u001b[39mstr\u001b[39;49m(\u001b[39mself\u001b[39;49m\u001b[39m.\u001b[39;49msignature\u001b[39m.\u001b[39;49mname),\n\u001b[0;32m    383\u001b[0m         num_outputs\u001b[39m=\u001b[39;49m\u001b[39mself\u001b[39;49m\u001b[39m.\u001b[39;49m_num_outputs,\n\u001b[0;32m    384\u001b[0m         inputs\u001b[39m=\u001b[39;49margs,\n\u001b[0;32m    385\u001b[0m         attrs\u001b[39m=\u001b[39;49mattrs,\n\u001b[0;32m    386\u001b[0m         ctx\u001b[39m=\u001b[39;49mctx)\n\u001b[0;32m    387\u001b[0m   \u001b[39melse\u001b[39;00m:\n\u001b[0;32m    388\u001b[0m     outputs \u001b[39m=\u001b[39m execute\u001b[39m.\u001b[39mexecute_with_cancellation(\n\u001b[0;32m    389\u001b[0m         \u001b[39mstr\u001b[39m(\u001b[39mself\u001b[39m\u001b[39m.\u001b[39msignature\u001b[39m.\u001b[39mname),\n\u001b[0;32m    390\u001b[0m         num_outputs\u001b[39m=\u001b[39m\u001b[39mself\u001b[39m\u001b[39m.\u001b[39m_num_outputs,\n\u001b[1;32m   (...)\u001b[0m\n\u001b[0;32m    393\u001b[0m         ctx\u001b[39m=\u001b[39mctx,\n\u001b[0;32m    394\u001b[0m         cancellation_manager\u001b[39m=\u001b[39mcancellation_manager)\n",
      "File \u001b[1;32m~\\AppData\\Roaming\\Python\\Python311\\site-packages\\tensorflow\\python\\eager\\execute.py:52\u001b[0m, in \u001b[0;36mquick_execute\u001b[1;34m(op_name, num_outputs, inputs, attrs, ctx, name)\u001b[0m\n\u001b[0;32m     50\u001b[0m \u001b[39mtry\u001b[39;00m:\n\u001b[0;32m     51\u001b[0m   ctx\u001b[39m.\u001b[39mensure_initialized()\n\u001b[1;32m---> 52\u001b[0m   tensors \u001b[39m=\u001b[39m pywrap_tfe\u001b[39m.\u001b[39;49mTFE_Py_Execute(ctx\u001b[39m.\u001b[39;49m_handle, device_name, op_name,\n\u001b[0;32m     53\u001b[0m                                       inputs, attrs, num_outputs)\n\u001b[0;32m     54\u001b[0m \u001b[39mexcept\u001b[39;00m core\u001b[39m.\u001b[39m_NotOkStatusException \u001b[39mas\u001b[39;00m e:\n\u001b[0;32m     55\u001b[0m   \u001b[39mif\u001b[39;00m name \u001b[39mis\u001b[39;00m \u001b[39mnot\u001b[39;00m \u001b[39mNone\u001b[39;00m:\n",
      "\u001b[1;31mKeyboardInterrupt\u001b[0m: "
     ]
    }
   ],
   "source": [
    "for epoch in range(EPOCHS):\n",
    "    start = time.time()\n",
    "\n",
    "    train_loss.reset_states()\n",
    "  \n",
    "    for (batch, (inp, tar)) in enumerate(dataset):\n",
    "        train_step(inp, tar)\n",
    "    \n",
    "        if batch % 200 == 0:\n",
    "            print(f'Epoch {epoch + 1} Batch {batch} Loss {train_loss.result():.4f} Accuracy {train_accuracy.result():.4f}')\n",
    "      \n",
    "        if (epoch + 1) % 5 == 0:\n",
    "             ckpt_save_path = ckpt_manager.save()\n",
    "             print ('Saving checkpoint for epoch {} at {}'.format(epoch+1, ckpt_save_path))\n",
    "   \n",
    "    print(f'Epoch {epoch + 1} Loss {train_loss.result():.4f} Accuracy {train_accuracy.result():.4f}')\n",
    "    print ('Time taken for 1 epoch: {} secs\\n'.format(time.time() - start))"
   ]
  },
  {
   "cell_type": "code",
   "execution_count": null,
   "metadata": {
    "execution": {
     "iopub.execute_input": "2021-06-10T14:08:03.826219Z",
     "iopub.status.busy": "2021-06-10T14:08:03.825895Z",
     "iopub.status.idle": "2021-06-10T14:08:03.833765Z",
     "shell.execute_reply": "2021-06-10T14:08:03.832785Z",
     "shell.execute_reply.started": "2021-06-10T14:08:03.826189Z"
    },
    "trusted": true
   },
   "outputs": [],
   "source": [
    "def evaluate(text):\n",
    "    text = eng_tokenizer.texts_to_sequences([text])\n",
    "    text = tf.keras.preprocessing.sequence.pad_sequences(text, maxlen=ENCODER_LEN, \n",
    "                                                                   padding='post', truncating='post')\n",
    "\n",
    "    encoder_input = tf.expand_dims(text[0], 0)\n",
    "\n",
    "    decoder_input = [hind_tokenizer.word_index['<sos>']]\n",
    "    output = tf.expand_dims(decoder_input, 0)\n",
    "    \n",
    "    for i in range(DECODER_LEN):\n",
    "        enc_padding_mask, combined_mask, dec_padding_mask = create_masks(encoder_input, output)\n",
    "\n",
    "        predictions, attention_weights = transformer(\n",
    "            encoder_input, \n",
    "            output,\n",
    "            False,\n",
    "            enc_padding_mask,\n",
    "            combined_mask,\n",
    "            dec_padding_mask\n",
    "        )\n",
    "\n",
    "        predictions = predictions[: ,-1:, :]\n",
    "        predicted_id = tf.cast(tf.argmax(predictions, axis=-1), tf.int32)\n",
    "\n",
    "        if predicted_id == hind_tokenizer.word_index['<eos>']:\n",
    "            return tf.squeeze(output, axis=0), attention_weights\n",
    "\n",
    "        output = tf.concat([output, predicted_id], axis=-1)\n",
    "\n",
    "    return tf.squeeze(output, axis=0), attention_weights"
   ]
  },
  {
   "cell_type": "code",
   "execution_count": null,
   "metadata": {
    "execution": {
     "iopub.execute_input": "2021-06-10T14:08:04.663291Z",
     "iopub.status.busy": "2021-06-10T14:08:04.662976Z",
     "iopub.status.idle": "2021-06-10T14:08:04.671802Z",
     "shell.execute_reply": "2021-06-10T14:08:04.669797Z",
     "shell.execute_reply.started": "2021-06-10T14:08:04.663261Z"
    },
    "trusted": true
   },
   "outputs": [],
   "source": [
    "def translate(eng_text):\n",
    "    hind_text = evaluate(text=eng_text)[0].numpy()\n",
    "    hind_text = np.expand_dims(hind_text[1:], 0)  \n",
    "    return hind_tokenizer.sequences_to_texts(hind_text)[0]"
   ]
  },
  {
   "cell_type": "code",
   "execution_count": null,
   "metadata": {
    "execution": {
     "iopub.execute_input": "2021-06-10T14:08:25.905839Z",
     "iopub.status.busy": "2021-06-10T14:08:25.905499Z",
     "iopub.status.idle": "2021-06-10T14:08:26.744034Z",
     "shell.execute_reply": "2021-06-10T14:08:26.742397Z",
     "shell.execute_reply.started": "2021-06-10T14:08:25.90581Z"
    },
    "trusted": true
   },
   "outputs": [],
   "source": [
    "translate(\"That politics , in retrospect , was rooted in a false ideology\")"
   ]
  },
  {
   "cell_type": "code",
   "execution_count": null,
   "metadata": {},
   "outputs": [],
   "source": [
    "translate(\"Above the tombs is a Cairene lamp, the flame of which is supposed to never burn out.\")\n"
   ]
  },
  {
   "cell_type": "code",
   "execution_count": null,
   "metadata": {},
   "outputs": [],
   "source": [
    "import csv\n",
    "from nltk.translate.bleu_score import corpus_bleu, SmoothingFunction\n",
    "\n",
    "def read_csv_file(file_path):\n",
    "    sentences = []\n",
    "    with open(file_path, 'r', encoding='utf-8') as file:\n",
    "        reader = csv.reader(file)\n",
    "        next(reader)  # Skip the header row\n",
    "        for row in reader:\n",
    "            sentences.append(row)\n",
    "    return sentences\n",
    "\n",
    "def compute_bleu_score(reference_sentences, predicted_sentences):\n",
    "    references = [[ref.split()] for ref in reference_sentences]  # Split sentences into words\n",
    "    hypotheses = [hyp.split() for hyp in predicted_sentences]  # Split sentences into words\n",
    "    \n",
    "    smooth_func = SmoothingFunction().method4  # Apply smoothing to BLEU score\n",
    "    \n",
    "    bleu_score = corpus_bleu(references, hypotheses, smoothing_function=smooth_func)\n",
    "    return bleu_score\n",
    "\n",
    "# Load testing data from CSV files\n",
    "\n",
    "test_file = r'test_data.csv'\n",
    "\n",
    "test_data = read_csv_file(test_file)\n",
    "\n",
    "# Assuming the source and target translations are stored in columns 0 and 1, respectively\n",
    "test_source_sentences = [row[0] for row in test_data]\n",
    "test_target_sentences = [row[1] for row in test_data]\n",
    "\n",
    "# Translate the source sentences from the test set\n",
    "predicted_sentences = [translate(src) for src in test_source_sentences]\n",
    "\n",
    "print(\"Translated\")\n",
    "# Compute BLEU score on the test set using the training set as references\n",
    "bleu = compute_bleu_score(test_target_sentences, predicted_sentences)\n",
    "\n",
    "print(f\"BLEU score: {bleu}\")"
   ]
  },
  {
   "cell_type": "code",
   "execution_count": null,
   "metadata": {},
   "outputs": [],
   "source": [
    "(test_target_sentences, predicted_sentences)"
   ]
  }
 ],
 "metadata": {
  "kernelspec": {
   "display_name": "Python 3",
   "language": "python",
   "name": "python3"
  },
  "language_info": {
   "codemirror_mode": {
    "name": "ipython",
    "version": 3
   },
   "file_extension": ".py",
   "mimetype": "text/x-python",
   "name": "python",
   "nbconvert_exporter": "python",
   "pygments_lexer": "ipython3",
   "version": "3.11.2"
  }
 },
 "nbformat": 4,
 "nbformat_minor": 4
}
